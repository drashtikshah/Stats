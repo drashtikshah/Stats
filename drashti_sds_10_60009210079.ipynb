{
  "nbformat": 4,
  "nbformat_minor": 0,
  "metadata": {
    "colab": {
      "provenance": [],
      "authorship_tag": "ABX9TyMGgCskQKeV+mV6VVn5Woyu",
      "include_colab_link": true
    },
    "kernelspec": {
      "name": "python3",
      "display_name": "Python 3"
    },
    "language_info": {
      "name": "python"
    }
  },
  "cells": [
    {
      "cell_type": "markdown",
      "metadata": {
        "id": "view-in-github",
        "colab_type": "text"
      },
      "source": [
        "<a href=\"https://colab.research.google.com/github/drashtikshah/Stats/blob/main/drashti_sds_10_60009210079.ipynb\" target=\"_parent\"><img src=\"https://colab.research.google.com/assets/colab-badge.svg\" alt=\"Open In Colab\"/></a>"
      ]
    },
    {
      "cell_type": "code",
      "execution_count": null,
      "metadata": {
        "id": "X0lnbfYZthoh"
      },
      "outputs": [],
      "source": [
        "import numpy as np\n",
        "import pandas as pd\n",
        "import statsmodels.api as sm\n",
        "from statsmodels.formula.api import ols\n",
        "from statsmodels.stats.multicomp import pairwise_tukeyhsd"
      ]
    },
    {
      "cell_type": "code",
      "source": [
        "from google.colab import drive\n",
        "drive.mount('/content/drive')"
      ],
      "metadata": {
        "colab": {
          "base_uri": "https://localhost:8080/"
        },
        "id": "euvq8xiSwQra",
        "outputId": "332e452f-3360-44ec-e477-b116a548559e"
      },
      "execution_count": null,
      "outputs": [
        {
          "output_type": "stream",
          "name": "stdout",
          "text": [
            "Mounted at /content/drive\n"
          ]
        }
      ]
    },
    {
      "cell_type": "markdown",
      "source": [
        "Q1"
      ],
      "metadata": {
        "id": "TT1-VM61zizw"
      }
    },
    {
      "cell_type": "code",
      "source": [
        "path = \"/content/Plant_Growth_New.csv\"\n",
        "df = pd.read_csv(path)\n",
        "print(df)"
      ],
      "metadata": {
        "colab": {
          "base_uri": "https://localhost:8080/"
        },
        "id": "VINTRkhewf7a",
        "outputId": "72d5ec59-d740-4572-8816-42b5e37bfab3"
      },
      "execution_count": null,
      "outputs": [
        {
          "output_type": "stream",
          "name": "stdout",
          "text": [
            "                               Treatment  Height\n",
            "0       low sun exposure and water daily       6\n",
            "1       low sun exposure and water daily       6\n",
            "2       low sun exposure and water daily       6\n",
            "3       low sun exposure and water daily       5\n",
            "4       low sun exposure and water daily       6\n",
            "5   medium sun exposure and water daily        5\n",
            "6   medium sun exposure and water daily        5\n",
            "7   medium sun exposure and water daily        6\n",
            "8   medium sun exposure and water daily        4\n",
            "9   medium sun exposure and water daily        5\n",
            "10     high sun exposure and water daily       6\n",
            "11     high sun exposure and water daily       6\n",
            "12     high sun exposure and water daily       7\n",
            "13     high sun exposure and water daily       8\n",
            "14     high sun exposure and water daily       7\n",
            "15     low sun exposure and water weekly       3\n",
            "16     low sun exposure and water weekly       4\n",
            "17     low sun exposure and water weekly       4\n",
            "18     low sun exposure and water weekly       4\n",
            "19     low sun exposure and water weekly       5\n",
            "20  medium sun exposure and water weekly       4\n",
            "21  medium sun exposure and water weekly       4\n",
            "22  medium sun exposure and water weekly       4\n",
            "23  medium sun exposure and water weekly       4\n",
            "24  medium sun exposure and water weekly       4\n",
            "25    high sun exposure and water weekly       5\n",
            "26    high sun exposure and water weekly       6\n",
            "27    high sun exposure and water weekly       6\n",
            "28    high sun exposure and water weekly       7\n",
            "29    high sun exposure and water weekly       8\n"
          ]
        }
      ]
    },
    {
      "cell_type": "code",
      "source": [
        "print(\"Null hpyotheisi is that there is no significant diffrence between the treatment on plats with there growth.\")\n",
        "print(\"Alternate hypothrisi is that there is signiicane diffrence between the treatment on plats with there growth.\")\n",
        "alpha = 0.05\n",
        "mod = ols(\"Height~Treatment\", data = df).fit()\n",
        "aov = sm.stats.anova_lm(mod)\n",
        "print(\"one way anova table is given below:\\n\", aov)"
      ],
      "metadata": {
        "colab": {
          "base_uri": "https://localhost:8080/"
        },
        "id": "wcBr7JlLwwSF",
        "outputId": "950cfe4f-4e40-4ba2-9680-c6f8451a6c65"
      },
      "execution_count": null,
      "outputs": [
        {
          "output_type": "stream",
          "name": "stdout",
          "text": [
            "Null hpyotheisi is that there is no significant diffrence between the treatment on plats with there growth.\n",
            "Alternate hypothrisi is that there is signiicane diffrence between the treatment on plats with there growth.\n",
            "one way anova table is given below:\n",
            "              df     sum_sq   mean_sq      F    PR(>F)\n",
            "Treatment   5.0  35.866667  7.173333  13.45  0.000003\n",
            "Residual   24.0  12.800000  0.533333    NaN       NaN\n"
          ]
        }
      ]
    },
    {
      "cell_type": "code",
      "source": [
        "f_statistics = aov['F']['Treatment']\n",
        "p_value = aov['PR(>F)']['Treatment']\n",
        "print('f_statsitics = ', f_statistics, 'p-value', p_value)\n",
        "if p_value > alpha:\n",
        "  print(\"Null hpyotheisi is that there is no significant diffrence between the treatment on plats with there growth.\"+str(alpha))\n",
        "else:\n",
        "  print(\"Alternate hypothrisi is that there is signiicane diffrence between the treatment on plats with there growth.\"+str(alpha))"
      ],
      "metadata": {
        "colab": {
          "base_uri": "https://localhost:8080/"
        },
        "id": "C3GmO3gKyO8V",
        "outputId": "3f86dc19-3a7e-47e1-9df6-dbca5076479d"
      },
      "execution_count": null,
      "outputs": [
        {
          "output_type": "stream",
          "name": "stdout",
          "text": [
            "f_statsitics =  13.449999999999998 p-value 2.6191797394662647e-06\n",
            "Alternate hypothrisi is that there is signiicane diffrence between the treatment on plats with there growth.0.05\n"
          ]
        }
      ]
    },
    {
      "cell_type": "code",
      "source": [
        "tukey = pairwise_tukeyhsd(endog=df['Height'], groups=df['Treatment'], alpha=0.05)\n",
        "print(\"Tukey post-hoc analyisi for the givern set is given below\\n\", tukey)"
      ],
      "metadata": {
        "colab": {
          "base_uri": "https://localhost:8080/"
        },
        "id": "uouvSj9UzJho",
        "outputId": "7c520ca9-1c34-4389-c859-a2ee312d0feb"
      },
      "execution_count": null,
      "outputs": [
        {
          "output_type": "stream",
          "name": "stdout",
          "text": [
            "Tukey post-hoc analyisi for the givern set is given below\n",
            "                               Multiple Comparison of Means - Tukey HSD, FWER=0.05                               \n",
            "================================================================================================================\n",
            "               group1                               group2                meandiff p-adj   lower   upper  reject\n",
            "----------------------------------------------------------------------------------------------------------------\n",
            "   high sun exposure and water daily   high sun exposure and water weekly     -0.4    0.9 -1.8282  1.0282  False\n",
            "   high sun exposure and water daily     low sun exposure and water daily     -1.0   0.29 -2.4282  0.4282  False\n",
            "   high sun exposure and water daily    low sun exposure and water weekly     -2.8  0.001 -4.2282 -1.3718   True\n",
            "   high sun exposure and water daily medium sun exposure and water daily      -1.8 0.0079 -3.2282 -0.3718   True\n",
            "   high sun exposure and water daily medium sun exposure and water weekly     -2.8  0.001 -4.2282 -1.3718   True\n",
            "  high sun exposure and water weekly     low sun exposure and water daily     -0.6 0.7576 -2.0282  0.8282  False\n",
            "  high sun exposure and water weekly    low sun exposure and water weekly     -2.4  0.001 -3.8282 -0.9718   True\n",
            "  high sun exposure and water weekly medium sun exposure and water daily      -1.4  0.057 -2.8282  0.0282  False\n",
            "  high sun exposure and water weekly medium sun exposure and water weekly     -2.4  0.001 -3.8282 -0.9718   True\n",
            "    low sun exposure and water daily    low sun exposure and water weekly     -1.8 0.0079 -3.2282 -0.3718   True\n",
            "    low sun exposure and water daily medium sun exposure and water daily      -0.8 0.5222 -2.2282  0.6282  False\n",
            "    low sun exposure and water daily medium sun exposure and water weekly     -1.8 0.0079 -3.2282 -0.3718   True\n",
            "   low sun exposure and water weekly medium sun exposure and water daily       1.0   0.29 -0.4282  2.4282  False\n",
            "   low sun exposure and water weekly medium sun exposure and water weekly      0.0    0.9 -1.4282  1.4282  False\n",
            "medium sun exposure and water daily  medium sun exposure and water weekly     -1.0   0.29 -2.4282  0.4282  False\n",
            "----------------------------------------------------------------------------------------------------------------\n"
          ]
        }
      ]
    },
    {
      "cell_type": "markdown",
      "source": [
        "Q2"
      ],
      "metadata": {
        "id": "n8O7WzL40AtD"
      }
    },
    {
      "cell_type": "code",
      "source": [
        "path = \"/content/Plant_Growth_New_2.csv\"\n",
        "df = pd.read_csv(path)\n",
        "df"
      ],
      "metadata": {
        "colab": {
          "base_uri": "https://localhost:8080/",
          "height": 990
        },
        "id": "BCiygEXQzkvp",
        "outputId": "08aba066-e650-4297-d358-c29215a8c55a"
      },
      "execution_count": null,
      "outputs": [
        {
          "output_type": "execute_result",
          "data": {
            "text/plain": [
              "   Sun_Exposure   Water  Height\n",
              "0           low   daily       6\n",
              "1           low   daily       6\n",
              "2           low   daily       6\n",
              "3           low   daily       5\n",
              "4           low   daily       6\n",
              "5        medium   daily       5\n",
              "6        medium   daily       5\n",
              "7        medium   daily       6\n",
              "8        medium   daily       4\n",
              "9        medium   daily       5\n",
              "10         high   daily       6\n",
              "11         high   daily       6\n",
              "12         high   daily       7\n",
              "13         high   daily       8\n",
              "14         high   daily       7\n",
              "15          low  weekly       3\n",
              "16          low  weekly       4\n",
              "17          low  weekly       4\n",
              "18          low  weekly       4\n",
              "19          low  weekly       5\n",
              "20       medium  weekly       4\n",
              "21       medium  weekly       4\n",
              "22       medium  weekly       4\n",
              "23       medium  weekly       4\n",
              "24       medium  weekly       4\n",
              "25         high  weekly       5\n",
              "26         high  weekly       6\n",
              "27         high  weekly       6\n",
              "28         high  weekly       7\n",
              "29         high  weekly       8"
            ],
            "text/html": [
              "\n",
              "  <div id=\"df-e839a85a-71e6-4b16-9132-a90d2c4997c9\">\n",
              "    <div class=\"colab-df-container\">\n",
              "      <div>\n",
              "<style scoped>\n",
              "    .dataframe tbody tr th:only-of-type {\n",
              "        vertical-align: middle;\n",
              "    }\n",
              "\n",
              "    .dataframe tbody tr th {\n",
              "        vertical-align: top;\n",
              "    }\n",
              "\n",
              "    .dataframe thead th {\n",
              "        text-align: right;\n",
              "    }\n",
              "</style>\n",
              "<table border=\"1\" class=\"dataframe\">\n",
              "  <thead>\n",
              "    <tr style=\"text-align: right;\">\n",
              "      <th></th>\n",
              "      <th>Sun_Exposure</th>\n",
              "      <th>Water</th>\n",
              "      <th>Height</th>\n",
              "    </tr>\n",
              "  </thead>\n",
              "  <tbody>\n",
              "    <tr>\n",
              "      <th>0</th>\n",
              "      <td>low</td>\n",
              "      <td>daily</td>\n",
              "      <td>6</td>\n",
              "    </tr>\n",
              "    <tr>\n",
              "      <th>1</th>\n",
              "      <td>low</td>\n",
              "      <td>daily</td>\n",
              "      <td>6</td>\n",
              "    </tr>\n",
              "    <tr>\n",
              "      <th>2</th>\n",
              "      <td>low</td>\n",
              "      <td>daily</td>\n",
              "      <td>6</td>\n",
              "    </tr>\n",
              "    <tr>\n",
              "      <th>3</th>\n",
              "      <td>low</td>\n",
              "      <td>daily</td>\n",
              "      <td>5</td>\n",
              "    </tr>\n",
              "    <tr>\n",
              "      <th>4</th>\n",
              "      <td>low</td>\n",
              "      <td>daily</td>\n",
              "      <td>6</td>\n",
              "    </tr>\n",
              "    <tr>\n",
              "      <th>5</th>\n",
              "      <td>medium</td>\n",
              "      <td>daily</td>\n",
              "      <td>5</td>\n",
              "    </tr>\n",
              "    <tr>\n",
              "      <th>6</th>\n",
              "      <td>medium</td>\n",
              "      <td>daily</td>\n",
              "      <td>5</td>\n",
              "    </tr>\n",
              "    <tr>\n",
              "      <th>7</th>\n",
              "      <td>medium</td>\n",
              "      <td>daily</td>\n",
              "      <td>6</td>\n",
              "    </tr>\n",
              "    <tr>\n",
              "      <th>8</th>\n",
              "      <td>medium</td>\n",
              "      <td>daily</td>\n",
              "      <td>4</td>\n",
              "    </tr>\n",
              "    <tr>\n",
              "      <th>9</th>\n",
              "      <td>medium</td>\n",
              "      <td>daily</td>\n",
              "      <td>5</td>\n",
              "    </tr>\n",
              "    <tr>\n",
              "      <th>10</th>\n",
              "      <td>high</td>\n",
              "      <td>daily</td>\n",
              "      <td>6</td>\n",
              "    </tr>\n",
              "    <tr>\n",
              "      <th>11</th>\n",
              "      <td>high</td>\n",
              "      <td>daily</td>\n",
              "      <td>6</td>\n",
              "    </tr>\n",
              "    <tr>\n",
              "      <th>12</th>\n",
              "      <td>high</td>\n",
              "      <td>daily</td>\n",
              "      <td>7</td>\n",
              "    </tr>\n",
              "    <tr>\n",
              "      <th>13</th>\n",
              "      <td>high</td>\n",
              "      <td>daily</td>\n",
              "      <td>8</td>\n",
              "    </tr>\n",
              "    <tr>\n",
              "      <th>14</th>\n",
              "      <td>high</td>\n",
              "      <td>daily</td>\n",
              "      <td>7</td>\n",
              "    </tr>\n",
              "    <tr>\n",
              "      <th>15</th>\n",
              "      <td>low</td>\n",
              "      <td>weekly</td>\n",
              "      <td>3</td>\n",
              "    </tr>\n",
              "    <tr>\n",
              "      <th>16</th>\n",
              "      <td>low</td>\n",
              "      <td>weekly</td>\n",
              "      <td>4</td>\n",
              "    </tr>\n",
              "    <tr>\n",
              "      <th>17</th>\n",
              "      <td>low</td>\n",
              "      <td>weekly</td>\n",
              "      <td>4</td>\n",
              "    </tr>\n",
              "    <tr>\n",
              "      <th>18</th>\n",
              "      <td>low</td>\n",
              "      <td>weekly</td>\n",
              "      <td>4</td>\n",
              "    </tr>\n",
              "    <tr>\n",
              "      <th>19</th>\n",
              "      <td>low</td>\n",
              "      <td>weekly</td>\n",
              "      <td>5</td>\n",
              "    </tr>\n",
              "    <tr>\n",
              "      <th>20</th>\n",
              "      <td>medium</td>\n",
              "      <td>weekly</td>\n",
              "      <td>4</td>\n",
              "    </tr>\n",
              "    <tr>\n",
              "      <th>21</th>\n",
              "      <td>medium</td>\n",
              "      <td>weekly</td>\n",
              "      <td>4</td>\n",
              "    </tr>\n",
              "    <tr>\n",
              "      <th>22</th>\n",
              "      <td>medium</td>\n",
              "      <td>weekly</td>\n",
              "      <td>4</td>\n",
              "    </tr>\n",
              "    <tr>\n",
              "      <th>23</th>\n",
              "      <td>medium</td>\n",
              "      <td>weekly</td>\n",
              "      <td>4</td>\n",
              "    </tr>\n",
              "    <tr>\n",
              "      <th>24</th>\n",
              "      <td>medium</td>\n",
              "      <td>weekly</td>\n",
              "      <td>4</td>\n",
              "    </tr>\n",
              "    <tr>\n",
              "      <th>25</th>\n",
              "      <td>high</td>\n",
              "      <td>weekly</td>\n",
              "      <td>5</td>\n",
              "    </tr>\n",
              "    <tr>\n",
              "      <th>26</th>\n",
              "      <td>high</td>\n",
              "      <td>weekly</td>\n",
              "      <td>6</td>\n",
              "    </tr>\n",
              "    <tr>\n",
              "      <th>27</th>\n",
              "      <td>high</td>\n",
              "      <td>weekly</td>\n",
              "      <td>6</td>\n",
              "    </tr>\n",
              "    <tr>\n",
              "      <th>28</th>\n",
              "      <td>high</td>\n",
              "      <td>weekly</td>\n",
              "      <td>7</td>\n",
              "    </tr>\n",
              "    <tr>\n",
              "      <th>29</th>\n",
              "      <td>high</td>\n",
              "      <td>weekly</td>\n",
              "      <td>8</td>\n",
              "    </tr>\n",
              "  </tbody>\n",
              "</table>\n",
              "</div>\n",
              "      <button class=\"colab-df-convert\" onclick=\"convertToInteractive('df-e839a85a-71e6-4b16-9132-a90d2c4997c9')\"\n",
              "              title=\"Convert this dataframe to an interactive table.\"\n",
              "              style=\"display:none;\">\n",
              "        \n",
              "  <svg xmlns=\"http://www.w3.org/2000/svg\" height=\"24px\"viewBox=\"0 0 24 24\"\n",
              "       width=\"24px\">\n",
              "    <path d=\"M0 0h24v24H0V0z\" fill=\"none\"/>\n",
              "    <path d=\"M18.56 5.44l.94 2.06.94-2.06 2.06-.94-2.06-.94-.94-2.06-.94 2.06-2.06.94zm-11 1L8.5 8.5l.94-2.06 2.06-.94-2.06-.94L8.5 2.5l-.94 2.06-2.06.94zm10 10l.94 2.06.94-2.06 2.06-.94-2.06-.94-.94-2.06-.94 2.06-2.06.94z\"/><path d=\"M17.41 7.96l-1.37-1.37c-.4-.4-.92-.59-1.43-.59-.52 0-1.04.2-1.43.59L10.3 9.45l-7.72 7.72c-.78.78-.78 2.05 0 2.83L4 21.41c.39.39.9.59 1.41.59.51 0 1.02-.2 1.41-.59l7.78-7.78 2.81-2.81c.8-.78.8-2.07 0-2.86zM5.41 20L4 18.59l7.72-7.72 1.47 1.35L5.41 20z\"/>\n",
              "  </svg>\n",
              "      </button>\n",
              "      \n",
              "  <style>\n",
              "    .colab-df-container {\n",
              "      display:flex;\n",
              "      flex-wrap:wrap;\n",
              "      gap: 12px;\n",
              "    }\n",
              "\n",
              "    .colab-df-convert {\n",
              "      background-color: #E8F0FE;\n",
              "      border: none;\n",
              "      border-radius: 50%;\n",
              "      cursor: pointer;\n",
              "      display: none;\n",
              "      fill: #1967D2;\n",
              "      height: 32px;\n",
              "      padding: 0 0 0 0;\n",
              "      width: 32px;\n",
              "    }\n",
              "\n",
              "    .colab-df-convert:hover {\n",
              "      background-color: #E2EBFA;\n",
              "      box-shadow: 0px 1px 2px rgba(60, 64, 67, 0.3), 0px 1px 3px 1px rgba(60, 64, 67, 0.15);\n",
              "      fill: #174EA6;\n",
              "    }\n",
              "\n",
              "    [theme=dark] .colab-df-convert {\n",
              "      background-color: #3B4455;\n",
              "      fill: #D2E3FC;\n",
              "    }\n",
              "\n",
              "    [theme=dark] .colab-df-convert:hover {\n",
              "      background-color: #434B5C;\n",
              "      box-shadow: 0px 1px 3px 1px rgba(0, 0, 0, 0.15);\n",
              "      filter: drop-shadow(0px 1px 2px rgba(0, 0, 0, 0.3));\n",
              "      fill: #FFFFFF;\n",
              "    }\n",
              "  </style>\n",
              "\n",
              "      <script>\n",
              "        const buttonEl =\n",
              "          document.querySelector('#df-e839a85a-71e6-4b16-9132-a90d2c4997c9 button.colab-df-convert');\n",
              "        buttonEl.style.display =\n",
              "          google.colab.kernel.accessAllowed ? 'block' : 'none';\n",
              "\n",
              "        async function convertToInteractive(key) {\n",
              "          const element = document.querySelector('#df-e839a85a-71e6-4b16-9132-a90d2c4997c9');\n",
              "          const dataTable =\n",
              "            await google.colab.kernel.invokeFunction('convertToInteractive',\n",
              "                                                     [key], {});\n",
              "          if (!dataTable) return;\n",
              "\n",
              "          const docLinkHtml = 'Like what you see? Visit the ' +\n",
              "            '<a target=\"_blank\" href=https://colab.research.google.com/notebooks/data_table.ipynb>data table notebook</a>'\n",
              "            + ' to learn more about interactive tables.';\n",
              "          element.innerHTML = '';\n",
              "          dataTable['output_type'] = 'display_data';\n",
              "          await google.colab.output.renderOutput(dataTable, element);\n",
              "          const docLink = document.createElement('div');\n",
              "          docLink.innerHTML = docLinkHtml;\n",
              "          element.appendChild(docLink);\n",
              "        }\n",
              "      </script>\n",
              "    </div>\n",
              "  </div>\n",
              "  "
            ]
          },
          "metadata": {},
          "execution_count": 11
        }
      ]
    },
    {
      "cell_type": "code",
      "source": [
        "print(\"Null hypotehis H_01 is that there is no signifiacne effect of sunlight exposure on plant growth.\")\n",
        "print(\"alternative  hypotehis H_a1 is that there is signifiacne effect of sunlight exposure on plant growth.\")\n",
        "print(\"Null hypothis H_02 is that there is no signifiacne effect of watering frequency on plant growth.\")\n",
        "print(\"Alternative hypothis H_a2 is that there is siginifance effect of watering frequency on plant growth.\")\n",
        "print(\"null hypotheis H_03 is that there is no sigificant interaction effect of watering frequecy and sunligth exposure.\")\n",
        "print(\"alterntive hypothsis H_a3 is that there is signifiacnt intercation effect of watering frequecy and sunligth exposure \")"
      ],
      "metadata": {
        "colab": {
          "base_uri": "https://localhost:8080/"
        },
        "id": "JMMp3Vgw0hTP",
        "outputId": "ef2e2774-29c6-45dd-f52d-dab55564b119"
      },
      "execution_count": null,
      "outputs": [
        {
          "output_type": "stream",
          "name": "stdout",
          "text": [
            "Null hypotehis H_01 is that there is no signifiacne effect of sunlight exposure on plant growth.\n",
            "alternative  hypotehis H_a1 is that there is signifiacne effect of sunlight exposure on plant growth.\n",
            "Null hypothis H_02 is that there is no signifiacne effect of watering frequency on plant growth.\n",
            "Alternative hypothis H_a2 is that there is siginifance effect of watering frequency on plant growth.\n",
            "null hypotheis H_03 is that there is no sigificant interaction effect of watering frequecy and sunligth exposure.\n",
            "alterntive hypothsis H_a3 is that there is signifiacnt intercation effect of watering frequecy and sunligth exposure \n"
          ]
        }
      ]
    },
    {
      "cell_type": "code",
      "source": [
        "mod = ols(\"Height~Sun_Exposure*Water\", data = df).fit()\n",
        "aov = sm.stats.anova_lm(mod)\n",
        "print(\"two way anova table is given below:\\n\", aov)"
      ],
      "metadata": {
        "colab": {
          "base_uri": "https://localhost:8080/"
        },
        "id": "tRn-dCH02Kkk",
        "outputId": "70f1c338-f11d-42e3-e68e-15a9344f26eb"
      },
      "execution_count": null,
      "outputs": [
        {
          "output_type": "stream",
          "name": "stdout",
          "text": [
            "two way anova table is given below:\n",
            "                       df     sum_sq    mean_sq        F    PR(>F)\n",
            "Sun_Exposure         2.0  24.866667  12.433333  23.3125  0.000002\n",
            "Water                1.0   8.533333   8.533333  16.0000  0.000527\n",
            "Sun_Exposure:Water   2.0   2.466667   1.233333   2.3125  0.120667\n",
            "Residual            24.0  12.800000   0.533333      NaN       NaN\n"
          ]
        }
      ]
    },
    {
      "cell_type": "code",
      "source": [
        "f_statistics_1 = aov['F']['Sun_Exposure']\n",
        "p_value_1 = aov['PR(>F)']['Sun_Exposure']\n",
        "print('f_statisitics_1 = ', f_statistics_1, 'pvalue1=', p_value_1)\n",
        "if p_value_1 > alpha:\n",
        "  print(\"failed to reject the null hypothes H_01 for a level og significane =\" + str(alpha))\n",
        "else:\n",
        "  print(\"null hypothis H_01 is rejectd for a level of siginiface =\" + str(alpha))"
      ],
      "metadata": {
        "colab": {
          "base_uri": "https://localhost:8080/"
        },
        "id": "mNhTJWOu2W5d",
        "outputId": "9d9202f1-56b6-4b60-daef-eae2357c2962"
      },
      "execution_count": null,
      "outputs": [
        {
          "output_type": "stream",
          "name": "stdout",
          "text": [
            "f_statisitics_1 =  23.312500000000004 pvalue1= 2.371555925858255e-06\n",
            "null hypothis H_01 is rejectd for a level of siginiface =0.05\n"
          ]
        }
      ]
    },
    {
      "cell_type": "code",
      "source": [
        "f_statistics_2 = aov['F']['Water']\n",
        "p_value_2 = aov['PR(>F)']['Water']\n",
        "print('f_statisitics_2 = ', f_statistics_1, 'pvalue2=', p_value_2)\n",
        "if p_value_1 > alpha:\n",
        "  print(\"failed to reject the null hypothes H_01 for a level og significane =\" + str(alpha))\n",
        "else:\n",
        "  print(\"null hypothis H_01 is rejectd for a level of siginiface =\" + str(alpha))"
      ],
      "metadata": {
        "colab": {
          "base_uri": "https://localhost:8080/"
        },
        "id": "n-2jlOTF4Gxa",
        "outputId": "b60b330f-8c9e-430b-8b3f-2b39c4e69e7b"
      },
      "execution_count": null,
      "outputs": [
        {
          "output_type": "stream",
          "name": "stdout",
          "text": [
            "f_statisitics_2 =  23.312500000000004 pvalue2= 0.0005269080727817035\n",
            "null hypothis H_01 is rejectd for a level of siginiface =0.05\n"
          ]
        }
      ]
    },
    {
      "cell_type": "code",
      "source": [
        "f_statistics_3 = aov['F']['Water']\n",
        "p_value_3 = aov['PR(>F)']['Water']\n",
        "print('f_statisitics_3 = ', f_statistics_3, 'pvalue3=', p_value_3)\n",
        "if p_value_1 > alpha:\n",
        "  print(\"failed to reject the null hypothes H_01 for a level og significane =\" + str(alpha))\n",
        "else:\n",
        "  print(\"null hypothis H_01 is rejectd for a level of siginiface =\" + str(alpha))"
      ],
      "metadata": {
        "colab": {
          "base_uri": "https://localhost:8080/"
        },
        "id": "5L1xYfyp4Rje",
        "outputId": "d23d8810-4f8c-49f7-b911-55815909da6c"
      },
      "execution_count": null,
      "outputs": [
        {
          "output_type": "stream",
          "name": "stdout",
          "text": [
            "f_statisitics_3 =  16.0 pvalue3= 0.0005269080727817035\n",
            "null hypothis H_01 is rejectd for a level of siginiface =0.05\n"
          ]
        }
      ]
    }
  ]
}