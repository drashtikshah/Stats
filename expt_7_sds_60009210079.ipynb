{
  "nbformat": 4,
  "nbformat_minor": 0,
  "metadata": {
    "colab": {
      "provenance": [],
      "authorship_tag": "ABX9TyM6qdsiedoROqEAWtgttgEY",
      "include_colab_link": true
    },
    "kernelspec": {
      "name": "python3",
      "display_name": "Python 3"
    },
    "language_info": {
      "name": "python"
    }
  },
  "cells": [
    {
      "cell_type": "markdown",
      "metadata": {
        "id": "view-in-github",
        "colab_type": "text"
      },
      "source": [
        "<a href=\"https://colab.research.google.com/github/drashtikshah/Stats/blob/main/expt_7_sds_60009210079.ipynb\" target=\"_parent\"><img src=\"https://colab.research.google.com/assets/colab-badge.svg\" alt=\"Open In Colab\"/></a>"
      ]
    },
    {
      "cell_type": "code",
      "execution_count": null,
      "metadata": {
        "id": "A_ne6nJ5e51P"
      },
      "outputs": [],
      "source": [
        "import numpy as np\n",
        "import pandas as pd\n",
        "import math\n",
        "import scipy.stats as stats\n",
        "import statistics as st\n"
      ]
    },
    {
      "cell_type": "code",
      "source": [
        "def pvalue(test,prob):\n",
        "  if test == 'two-tailed':\n",
        "    p_value = prob\n",
        "  else:\n",
        "    p_value = prob/2\n",
        "  return p_value"
      ],
      "metadata": {
        "id": "7YZTbnLfiHLG"
      },
      "execution_count": null,
      "outputs": []
    },
    {
      "cell_type": "markdown",
      "source": [
        "Q1"
      ],
      "metadata": {
        "id": "b4zcAlzLihlt"
      }
    },
    {
      "cell_type": "code",
      "source": [
        "from google.colab import drive\n",
        "drive.mount('/content/drive')"
      ],
      "metadata": {
        "colab": {
          "base_uri": "https://localhost:8080/"
        },
        "id": "RleaXYrfibaX",
        "outputId": "2d09136e-128d-4a2c-a708-bb523ca00f7b"
      },
      "execution_count": null,
      "outputs": [
        {
          "output_type": "stream",
          "name": "stdout",
          "text": [
            "Mounted at /content/drive\n"
          ]
        }
      ]
    },
    {
      "cell_type": "code",
      "source": [
        "path = \"/content/drive/MyDrive/blood_pressure.csv\"\n",
        "data = pd.read_csv(path)\n",
        "data"
      ],
      "metadata": {
        "colab": {
          "base_uri": "https://localhost:8080/",
          "height": 424
        },
        "id": "7gku97gKi4zK",
        "outputId": "53cb9e0b-9ec0-4a9c-ca3c-65edf0085bf7"
      },
      "execution_count": null,
      "outputs": [
        {
          "output_type": "execute_result",
          "data": {
            "text/plain": [
              "     patient     sex agegrp  bp_before  bp_after\n",
              "0          1    Male  30-45        143       153\n",
              "1          2    Male  30-45        163       170\n",
              "2          3    Male  30-45        153       168\n",
              "3          4    Male  30-45        153       142\n",
              "4          5    Male  30-45        146       141\n",
              "..       ...     ...    ...        ...       ...\n",
              "115      116  Female    60+        152       152\n",
              "116      117  Female    60+        161       152\n",
              "117      118  Female    60+        165       174\n",
              "118      119  Female    60+        149       151\n",
              "119      120  Female    60+        185       163\n",
              "\n",
              "[120 rows x 5 columns]"
            ],
            "text/html": [
              "\n",
              "  <div id=\"df-6aaf7eba-c78d-4b38-8b7d-8d47b9428445\">\n",
              "    <div class=\"colab-df-container\">\n",
              "      <div>\n",
              "<style scoped>\n",
              "    .dataframe tbody tr th:only-of-type {\n",
              "        vertical-align: middle;\n",
              "    }\n",
              "\n",
              "    .dataframe tbody tr th {\n",
              "        vertical-align: top;\n",
              "    }\n",
              "\n",
              "    .dataframe thead th {\n",
              "        text-align: right;\n",
              "    }\n",
              "</style>\n",
              "<table border=\"1\" class=\"dataframe\">\n",
              "  <thead>\n",
              "    <tr style=\"text-align: right;\">\n",
              "      <th></th>\n",
              "      <th>patient</th>\n",
              "      <th>sex</th>\n",
              "      <th>agegrp</th>\n",
              "      <th>bp_before</th>\n",
              "      <th>bp_after</th>\n",
              "    </tr>\n",
              "  </thead>\n",
              "  <tbody>\n",
              "    <tr>\n",
              "      <th>0</th>\n",
              "      <td>1</td>\n",
              "      <td>Male</td>\n",
              "      <td>30-45</td>\n",
              "      <td>143</td>\n",
              "      <td>153</td>\n",
              "    </tr>\n",
              "    <tr>\n",
              "      <th>1</th>\n",
              "      <td>2</td>\n",
              "      <td>Male</td>\n",
              "      <td>30-45</td>\n",
              "      <td>163</td>\n",
              "      <td>170</td>\n",
              "    </tr>\n",
              "    <tr>\n",
              "      <th>2</th>\n",
              "      <td>3</td>\n",
              "      <td>Male</td>\n",
              "      <td>30-45</td>\n",
              "      <td>153</td>\n",
              "      <td>168</td>\n",
              "    </tr>\n",
              "    <tr>\n",
              "      <th>3</th>\n",
              "      <td>4</td>\n",
              "      <td>Male</td>\n",
              "      <td>30-45</td>\n",
              "      <td>153</td>\n",
              "      <td>142</td>\n",
              "    </tr>\n",
              "    <tr>\n",
              "      <th>4</th>\n",
              "      <td>5</td>\n",
              "      <td>Male</td>\n",
              "      <td>30-45</td>\n",
              "      <td>146</td>\n",
              "      <td>141</td>\n",
              "    </tr>\n",
              "    <tr>\n",
              "      <th>...</th>\n",
              "      <td>...</td>\n",
              "      <td>...</td>\n",
              "      <td>...</td>\n",
              "      <td>...</td>\n",
              "      <td>...</td>\n",
              "    </tr>\n",
              "    <tr>\n",
              "      <th>115</th>\n",
              "      <td>116</td>\n",
              "      <td>Female</td>\n",
              "      <td>60+</td>\n",
              "      <td>152</td>\n",
              "      <td>152</td>\n",
              "    </tr>\n",
              "    <tr>\n",
              "      <th>116</th>\n",
              "      <td>117</td>\n",
              "      <td>Female</td>\n",
              "      <td>60+</td>\n",
              "      <td>161</td>\n",
              "      <td>152</td>\n",
              "    </tr>\n",
              "    <tr>\n",
              "      <th>117</th>\n",
              "      <td>118</td>\n",
              "      <td>Female</td>\n",
              "      <td>60+</td>\n",
              "      <td>165</td>\n",
              "      <td>174</td>\n",
              "    </tr>\n",
              "    <tr>\n",
              "      <th>118</th>\n",
              "      <td>119</td>\n",
              "      <td>Female</td>\n",
              "      <td>60+</td>\n",
              "      <td>149</td>\n",
              "      <td>151</td>\n",
              "    </tr>\n",
              "    <tr>\n",
              "      <th>119</th>\n",
              "      <td>120</td>\n",
              "      <td>Female</td>\n",
              "      <td>60+</td>\n",
              "      <td>185</td>\n",
              "      <td>163</td>\n",
              "    </tr>\n",
              "  </tbody>\n",
              "</table>\n",
              "<p>120 rows × 5 columns</p>\n",
              "</div>\n",
              "      <button class=\"colab-df-convert\" onclick=\"convertToInteractive('df-6aaf7eba-c78d-4b38-8b7d-8d47b9428445')\"\n",
              "              title=\"Convert this dataframe to an interactive table.\"\n",
              "              style=\"display:none;\">\n",
              "        \n",
              "  <svg xmlns=\"http://www.w3.org/2000/svg\" height=\"24px\"viewBox=\"0 0 24 24\"\n",
              "       width=\"24px\">\n",
              "    <path d=\"M0 0h24v24H0V0z\" fill=\"none\"/>\n",
              "    <path d=\"M18.56 5.44l.94 2.06.94-2.06 2.06-.94-2.06-.94-.94-2.06-.94 2.06-2.06.94zm-11 1L8.5 8.5l.94-2.06 2.06-.94-2.06-.94L8.5 2.5l-.94 2.06-2.06.94zm10 10l.94 2.06.94-2.06 2.06-.94-2.06-.94-.94-2.06-.94 2.06-2.06.94z\"/><path d=\"M17.41 7.96l-1.37-1.37c-.4-.4-.92-.59-1.43-.59-.52 0-1.04.2-1.43.59L10.3 9.45l-7.72 7.72c-.78.78-.78 2.05 0 2.83L4 21.41c.39.39.9.59 1.41.59.51 0 1.02-.2 1.41-.59l7.78-7.78 2.81-2.81c.8-.78.8-2.07 0-2.86zM5.41 20L4 18.59l7.72-7.72 1.47 1.35L5.41 20z\"/>\n",
              "  </svg>\n",
              "      </button>\n",
              "      \n",
              "  <style>\n",
              "    .colab-df-container {\n",
              "      display:flex;\n",
              "      flex-wrap:wrap;\n",
              "      gap: 12px;\n",
              "    }\n",
              "\n",
              "    .colab-df-convert {\n",
              "      background-color: #E8F0FE;\n",
              "      border: none;\n",
              "      border-radius: 50%;\n",
              "      cursor: pointer;\n",
              "      display: none;\n",
              "      fill: #1967D2;\n",
              "      height: 32px;\n",
              "      padding: 0 0 0 0;\n",
              "      width: 32px;\n",
              "    }\n",
              "\n",
              "    .colab-df-convert:hover {\n",
              "      background-color: #E2EBFA;\n",
              "      box-shadow: 0px 1px 2px rgba(60, 64, 67, 0.3), 0px 1px 3px 1px rgba(60, 64, 67, 0.15);\n",
              "      fill: #174EA6;\n",
              "    }\n",
              "\n",
              "    [theme=dark] .colab-df-convert {\n",
              "      background-color: #3B4455;\n",
              "      fill: #D2E3FC;\n",
              "    }\n",
              "\n",
              "    [theme=dark] .colab-df-convert:hover {\n",
              "      background-color: #434B5C;\n",
              "      box-shadow: 0px 1px 3px 1px rgba(0, 0, 0, 0.15);\n",
              "      filter: drop-shadow(0px 1px 2px rgba(0, 0, 0, 0.3));\n",
              "      fill: #FFFFFF;\n",
              "    }\n",
              "  </style>\n",
              "\n",
              "      <script>\n",
              "        const buttonEl =\n",
              "          document.querySelector('#df-6aaf7eba-c78d-4b38-8b7d-8d47b9428445 button.colab-df-convert');\n",
              "        buttonEl.style.display =\n",
              "          google.colab.kernel.accessAllowed ? 'block' : 'none';\n",
              "\n",
              "        async function convertToInteractive(key) {\n",
              "          const element = document.querySelector('#df-6aaf7eba-c78d-4b38-8b7d-8d47b9428445');\n",
              "          const dataTable =\n",
              "            await google.colab.kernel.invokeFunction('convertToInteractive',\n",
              "                                                     [key], {});\n",
              "          if (!dataTable) return;\n",
              "\n",
              "          const docLinkHtml = 'Like what you see? Visit the ' +\n",
              "            '<a target=\"_blank\" href=https://colab.research.google.com/notebooks/data_table.ipynb>data table notebook</a>'\n",
              "            + ' to learn more about interactive tables.';\n",
              "          element.innerHTML = '';\n",
              "          dataTable['output_type'] = 'display_data';\n",
              "          await google.colab.output.renderOutput(dataTable, element);\n",
              "          const docLink = document.createElement('div');\n",
              "          docLink.innerHTML = docLinkHtml;\n",
              "          element.appendChild(docLink);\n",
              "        }\n",
              "      </script>\n",
              "    </div>\n",
              "  </div>\n",
              "  "
            ]
          },
          "metadata": {},
          "execution_count": 4
        }
      ]
    },
    {
      "cell_type": "code",
      "source": [
        "from statsmodels.stats import weightstats as stests"
      ],
      "metadata": {
        "id": "g1vt28tMjvdh"
      },
      "execution_count": null,
      "outputs": []
    },
    {
      "cell_type": "code",
      "source": [
        "print(\"Null hypothesis is that the blood pressure before treatment has a mean value of 156.  \")\n",
        "print(\"Alternative hypothesis is that the blood pressure before treatment does not has a mean value of 156.\")\n",
        "z_statistics, p_value = stests.ztest(data['bp_before'], x2=None, value=156)\n",
        "print(\"z-statistics is: \", z_statistics, \"p-value is : \", p_value)\n",
        "alpha = 0.05\n",
        "if p_value > alpha:\n",
        "  print(\"Failed to reject the null hypothesis for levle of significance= \" + str(alpha))\n",
        "else:\n",
        "  print(\"Null hypothesis is rejected for level of significane= \" + str(alpha))"
      ],
      "metadata": {
        "colab": {
          "base_uri": "https://localhost:8080/"
        },
        "id": "9-wiw4rmj3un",
        "outputId": "91c0883f-1606-43bf-90bc-91a85302f545"
      },
      "execution_count": null,
      "outputs": [
        {
          "output_type": "stream",
          "name": "stdout",
          "text": [
            "Null hypothesis is that the blood pressure before treatment has a mean value of 156.  \n",
            "Alternative hypothesis is that the blood pressure before treatment does not has a mean value of 156.\n",
            "z-statistics is:  0.432798073526164 p-value is :  0.6651614730255063\n",
            "Failed to reject the null hypothesis for levle of significance= 0.05\n"
          ]
        }
      ]
    },
    {
      "cell_type": "code",
      "source": [
        "def one_sample_z_test(P_m, s_m, P_sd, s_n, alpha, alternative):\n",
        "   print(\"One-Sample\", alternative, \"Z-test of sample mean\")\n",
        "   print(\"--------------------------------------------------------------------------------------\")\n",
        "  # The p-value approach\n",
        "   print(\"Approach 1: The p-value approach to hypothesis testing in the decision rule\")\n",
        "   z_stats = (s_m - P_m)/(P_sd/math.sqrt(s_n))\n",
        "   if alternative == \"left-tailed\":\n",
        "      p_value = stats.norm.cdf(z_stats)\n",
        "   elif alternative == \"right-tailed\":\n",
        "     p_value = 1 - stats.norm.cdf(z_stats) # or stats.norm.sf(z_stats)\n",
        "   elif alternative == \"two-tailed\":\n",
        "     z_stats = abs(z_stats)\n",
        "     p_value = 2*(1 - stats.norm.cdf(z_stats))\n",
        "   conclusion = \"Failed to reject the null hypothesis for level of significance = \" + str(alpha)\n",
        "  if p_value <= alpha:\n",
        "     conclusion = \"Null Hypothesis is rejected for level of significance = \" + str(alpha)\n",
        "print(\"z-statistics is:\", z_stats, \" and p value is:\", p_value)\n",
        "print(conclusion)\n",
        "  # The critical value approach\n",
        "  print(\"\\n--------------------------------------------------------------------------------------\")\n",
        "  print(\"Approach 2: The critical value approach to hypothesis testing in the decision rule\")\n",
        "  z_stats = (s_m - P_m)/(P_sd/math.sqrt(s_n))\n",
        "\n",
        "  conclusion = \"Failed to reject the null hypothesis for level of significance = \" + str(alpha)\n",
        "  if alternative == \"left-tailed\":\n",
        "    z_crit = stats.norm.ppf(alpha)\n",
        "    if z_stats < z_crit:\n",
        "      conclusion = \"Null Hypothesis is rejected for level of significance = \" + str(alpha)\n",
        "  elif alternative == \"right-tailed\":\n",
        "    z_crit = stats.norm.ppf(1-alpha)\n",
        "    if z_stats > z_crit:\n",
        "      conclusion = \"Null Hypothesis is rejected for level of significance = \" + str(alpha)\n",
        "  elif alternative == \"two-tailed\":\n",
        "    z_stats = abs(z_stats)\n",
        "    z_crit = stats.norm.ppf(1 - alpha/2)\n",
        "    if z_stats > z_crit:\n",
        "      conclusion = \"Null Hypothesis is rejected for level of significance = \" + str(alpha)\n",
        "\n",
        "  print(\"z-statistics is:\", z_stats, \" and critical value is:\", z_crit)\n",
        "  print(conclusion)\n",
        "\n"
      ],
      "metadata": {
        "id": "dWqKyReu4Pxn"
      },
      "execution_count": null,
      "outputs": []
    },
    {
      "cell_type": "code",
      "source": [
        "P_m = 156\n",
        "s_m = st.mean(data['bp_before'])\n",
        "P_sd = st.stdev(data['bp_before'])\n",
        "s_n = len(data['bp_before'])\n",
        "alpha = 0.05\n",
        "alternative = 'two-tailed'\n",
        "one_sample_z_test(P_m, s_m, P_sd, s_n, alpha, alternative)"
      ],
      "metadata": {
        "colab": {
          "base_uri": "https://localhost:8080/",
          "height": 200
        },
        "id": "pIndx9TUnqj4",
        "outputId": "a9f7922d-0ff1-42ed-cb3a-7fb8a4c73f42"
      },
      "execution_count": null,
      "outputs": [
        {
          "output_type": "error",
          "ename": "NameError",
          "evalue": "ignored",
          "traceback": [
            "\u001b[0;31m---------------------------------------------------------------------------\u001b[0m",
            "\u001b[0;31mNameError\u001b[0m                                 Traceback (most recent call last)",
            "\u001b[0;32m<ipython-input-15-8b464a183b79>\u001b[0m in \u001b[0;36m<module>\u001b[0;34m\u001b[0m\n\u001b[1;32m      5\u001b[0m \u001b[0malpha\u001b[0m \u001b[0;34m=\u001b[0m \u001b[0;36m0.05\u001b[0m\u001b[0;34m\u001b[0m\u001b[0;34m\u001b[0m\u001b[0m\n\u001b[1;32m      6\u001b[0m \u001b[0malternative\u001b[0m \u001b[0;34m=\u001b[0m \u001b[0;34m'two-tailed'\u001b[0m\u001b[0;34m\u001b[0m\u001b[0;34m\u001b[0m\u001b[0m\n\u001b[0;32m----> 7\u001b[0;31m \u001b[0mone_sample_z_test\u001b[0m\u001b[0;34m(\u001b[0m\u001b[0mP_m\u001b[0m\u001b[0;34m,\u001b[0m \u001b[0ms_m\u001b[0m\u001b[0;34m,\u001b[0m \u001b[0mP_sd\u001b[0m\u001b[0;34m,\u001b[0m \u001b[0ms_n\u001b[0m\u001b[0;34m,\u001b[0m \u001b[0malpha\u001b[0m\u001b[0;34m,\u001b[0m \u001b[0malternative\u001b[0m\u001b[0;34m)\u001b[0m\u001b[0;34m\u001b[0m\u001b[0;34m\u001b[0m\u001b[0m\n\u001b[0m",
            "\u001b[0;31mNameError\u001b[0m: name 'one_sample_z_test' is not defined"
          ]
        }
      ]
    },
    {
      "cell_type": "markdown",
      "source": [
        "Q2"
      ],
      "metadata": {
        "id": "FUhIZUePpop0"
      }
    },
    {
      "cell_type": "code",
      "source": [
        "path = \"/content/drive/MyDrive/systolic blood pressure.csv\"\n",
        "data = pd.read_csv(path)\n",
        "data"
      ],
      "metadata": {
        "colab": {
          "base_uri": "https://localhost:8080/",
          "height": 424
        },
        "id": "gehcjG01pZaH",
        "outputId": "3054b738-e3a0-4d65-de32-187df86788b8"
      },
      "execution_count": null,
      "outputs": [
        {
          "output_type": "execute_result",
          "data": {
            "text/plain": [
              "     armsys  fingsys\n",
              "0       140      154\n",
              "1       110      112\n",
              "2       138      156\n",
              "3       124      152\n",
              "4       142      142\n",
              "..      ...      ...\n",
              "195     122      136\n",
              "196     100      112\n",
              "197     136      124\n",
              "198     124      120\n",
              "199     100      106\n",
              "\n",
              "[200 rows x 2 columns]"
            ],
            "text/html": [
              "\n",
              "  <div id=\"df-0ad388a0-1966-480d-be99-98a8fbd41462\">\n",
              "    <div class=\"colab-df-container\">\n",
              "      <div>\n",
              "<style scoped>\n",
              "    .dataframe tbody tr th:only-of-type {\n",
              "        vertical-align: middle;\n",
              "    }\n",
              "\n",
              "    .dataframe tbody tr th {\n",
              "        vertical-align: top;\n",
              "    }\n",
              "\n",
              "    .dataframe thead th {\n",
              "        text-align: right;\n",
              "    }\n",
              "</style>\n",
              "<table border=\"1\" class=\"dataframe\">\n",
              "  <thead>\n",
              "    <tr style=\"text-align: right;\">\n",
              "      <th></th>\n",
              "      <th>armsys</th>\n",
              "      <th>fingsys</th>\n",
              "    </tr>\n",
              "  </thead>\n",
              "  <tbody>\n",
              "    <tr>\n",
              "      <th>0</th>\n",
              "      <td>140</td>\n",
              "      <td>154</td>\n",
              "    </tr>\n",
              "    <tr>\n",
              "      <th>1</th>\n",
              "      <td>110</td>\n",
              "      <td>112</td>\n",
              "    </tr>\n",
              "    <tr>\n",
              "      <th>2</th>\n",
              "      <td>138</td>\n",
              "      <td>156</td>\n",
              "    </tr>\n",
              "    <tr>\n",
              "      <th>3</th>\n",
              "      <td>124</td>\n",
              "      <td>152</td>\n",
              "    </tr>\n",
              "    <tr>\n",
              "      <th>4</th>\n",
              "      <td>142</td>\n",
              "      <td>142</td>\n",
              "    </tr>\n",
              "    <tr>\n",
              "      <th>...</th>\n",
              "      <td>...</td>\n",
              "      <td>...</td>\n",
              "    </tr>\n",
              "    <tr>\n",
              "      <th>195</th>\n",
              "      <td>122</td>\n",
              "      <td>136</td>\n",
              "    </tr>\n",
              "    <tr>\n",
              "      <th>196</th>\n",
              "      <td>100</td>\n",
              "      <td>112</td>\n",
              "    </tr>\n",
              "    <tr>\n",
              "      <th>197</th>\n",
              "      <td>136</td>\n",
              "      <td>124</td>\n",
              "    </tr>\n",
              "    <tr>\n",
              "      <th>198</th>\n",
              "      <td>124</td>\n",
              "      <td>120</td>\n",
              "    </tr>\n",
              "    <tr>\n",
              "      <th>199</th>\n",
              "      <td>100</td>\n",
              "      <td>106</td>\n",
              "    </tr>\n",
              "  </tbody>\n",
              "</table>\n",
              "<p>200 rows × 2 columns</p>\n",
              "</div>\n",
              "      <button class=\"colab-df-convert\" onclick=\"convertToInteractive('df-0ad388a0-1966-480d-be99-98a8fbd41462')\"\n",
              "              title=\"Convert this dataframe to an interactive table.\"\n",
              "              style=\"display:none;\">\n",
              "        \n",
              "  <svg xmlns=\"http://www.w3.org/2000/svg\" height=\"24px\"viewBox=\"0 0 24 24\"\n",
              "       width=\"24px\">\n",
              "    <path d=\"M0 0h24v24H0V0z\" fill=\"none\"/>\n",
              "    <path d=\"M18.56 5.44l.94 2.06.94-2.06 2.06-.94-2.06-.94-.94-2.06-.94 2.06-2.06.94zm-11 1L8.5 8.5l.94-2.06 2.06-.94-2.06-.94L8.5 2.5l-.94 2.06-2.06.94zm10 10l.94 2.06.94-2.06 2.06-.94-2.06-.94-.94-2.06-.94 2.06-2.06.94z\"/><path d=\"M17.41 7.96l-1.37-1.37c-.4-.4-.92-.59-1.43-.59-.52 0-1.04.2-1.43.59L10.3 9.45l-7.72 7.72c-.78.78-.78 2.05 0 2.83L4 21.41c.39.39.9.59 1.41.59.51 0 1.02-.2 1.41-.59l7.78-7.78 2.81-2.81c.8-.78.8-2.07 0-2.86zM5.41 20L4 18.59l7.72-7.72 1.47 1.35L5.41 20z\"/>\n",
              "  </svg>\n",
              "      </button>\n",
              "      \n",
              "  <style>\n",
              "    .colab-df-container {\n",
              "      display:flex;\n",
              "      flex-wrap:wrap;\n",
              "      gap: 12px;\n",
              "    }\n",
              "\n",
              "    .colab-df-convert {\n",
              "      background-color: #E8F0FE;\n",
              "      border: none;\n",
              "      border-radius: 50%;\n",
              "      cursor: pointer;\n",
              "      display: none;\n",
              "      fill: #1967D2;\n",
              "      height: 32px;\n",
              "      padding: 0 0 0 0;\n",
              "      width: 32px;\n",
              "    }\n",
              "\n",
              "    .colab-df-convert:hover {\n",
              "      background-color: #E2EBFA;\n",
              "      box-shadow: 0px 1px 2px rgba(60, 64, 67, 0.3), 0px 1px 3px 1px rgba(60, 64, 67, 0.15);\n",
              "      fill: #174EA6;\n",
              "    }\n",
              "\n",
              "    [theme=dark] .colab-df-convert {\n",
              "      background-color: #3B4455;\n",
              "      fill: #D2E3FC;\n",
              "    }\n",
              "\n",
              "    [theme=dark] .colab-df-convert:hover {\n",
              "      background-color: #434B5C;\n",
              "      box-shadow: 0px 1px 3px 1px rgba(0, 0, 0, 0.15);\n",
              "      filter: drop-shadow(0px 1px 2px rgba(0, 0, 0, 0.3));\n",
              "      fill: #FFFFFF;\n",
              "    }\n",
              "  </style>\n",
              "\n",
              "      <script>\n",
              "        const buttonEl =\n",
              "          document.querySelector('#df-0ad388a0-1966-480d-be99-98a8fbd41462 button.colab-df-convert');\n",
              "        buttonEl.style.display =\n",
              "          google.colab.kernel.accessAllowed ? 'block' : 'none';\n",
              "\n",
              "        async function convertToInteractive(key) {\n",
              "          const element = document.querySelector('#df-0ad388a0-1966-480d-be99-98a8fbd41462');\n",
              "          const dataTable =\n",
              "            await google.colab.kernel.invokeFunction('convertToInteractive',\n",
              "                                                     [key], {});\n",
              "          if (!dataTable) return;\n",
              "\n",
              "          const docLinkHtml = 'Like what you see? Visit the ' +\n",
              "            '<a target=\"_blank\" href=https://colab.research.google.com/notebooks/data_table.ipynb>data table notebook</a>'\n",
              "            + ' to learn more about interactive tables.';\n",
              "          element.innerHTML = '';\n",
              "          dataTable['output_type'] = 'display_data';\n",
              "          await google.colab.output.renderOutput(dataTable, element);\n",
              "          const docLink = document.createElement('div');\n",
              "          docLink.innerHTML = docLinkHtml;\n",
              "          element.appendChild(docLink);\n",
              "        }\n",
              "      </script>\n",
              "    </div>\n",
              "  </div>\n",
              "  "
            ]
          },
          "metadata": {},
          "execution_count": 17
        }
      ]
    },
    {
      "cell_type": "code",
      "source": [
        "print(\"null hypothesis is that the systolic pressure measured on arm has a mean vlaue of 125mmHg.\")\n",
        "print(\"alte4rnative hypothesis is that the systolic pressure measured on arm does not  has a mean vlaue of 125mmHg.\")\n",
        "z_statistics, p_value = stests.ztest(data['armsys'], x2=None, value=125)\n",
        "print(\"z-statistics is: \", z_statistics, \"p-value is : \", p_value)\n",
        "alpha = 0.05\n",
        "if p_value > alpha:\n",
        "  print(\"Failed to reject the null hypothesis for levle of significance= \" + str(alpha))\n",
        "else:\n",
        "  print(\"Null hypothesis is rejected for level of significane= \" + str(alpha))"
      ],
      "metadata": {
        "colab": {
          "base_uri": "https://localhost:8080/"
        },
        "id": "MMY0HL5jpqHR",
        "outputId": "66f2d096-c379-4eb7-ed1a-849607810b63"
      },
      "execution_count": null,
      "outputs": [
        {
          "output_type": "stream",
          "name": "stdout",
          "text": [
            "null hypothesis is that the systolic pressure measured on arm has a mean vlaue of 125mmHg.\n",
            "alte4rnative hypothesis is that the systolic pressure measured on arm does not  has a mean vlaue of 125mmHg.\n",
            "z-statistics is:  2.1376342148925 p-value is :  0.032546442541153964\n",
            "Null hypothesis is rejected for level of significane= 0.05\n"
          ]
        }
      ]
    },
    {
      "cell_type": "markdown",
      "source": [
        "Q3"
      ],
      "metadata": {
        "id": "bin1ddnWq5Zg"
      }
    },
    {
      "cell_type": "code",
      "source": [
        "print(\"null hypothesis is that the given sample repersents the batch of string having mean breaking strenght of 15.6 pounds and standard deviation of 2.2 pounds.\")\n",
        "print(\"alternative hypothesis is that the given sample does not repersents the batch of string having mean breaking strenght of 15.6 pounds and standard deviation of 2.2 pounds.\")\n",
        "P_m = 15.6\n",
        "P_sd = 2.2\n",
        "s_m = 14.5\n",
        "s_n = 50\n",
        "alpha = .05\n",
        "alternative = 'two-tailed'\n",
        "one_sample_z_test(P_m, s_m, P_sd, s_n, alpha, alternative)"
      ],
      "metadata": {
        "colab": {
          "base_uri": "https://localhost:8080/",
          "height": 255
        },
        "id": "IwRy2MhJq0R3",
        "outputId": "ed4a1e43-baad-4762-dd4d-bf6c1248bfcb"
      },
      "execution_count": null,
      "outputs": [
        {
          "output_type": "stream",
          "name": "stdout",
          "text": [
            "null hypothesis is that the given sample repersents the batch of string having mean breaking strenght of 15.6 pounds and standard deviation of 2.2 pounds.\n",
            "alternative hypothesis is that the given sample does not repersents the batch of string having mean breaking strenght of 15.6 pounds and standard deviation of 2.2 pounds.\n"
          ]
        },
        {
          "output_type": "error",
          "ename": "NameError",
          "evalue": "ignored",
          "traceback": [
            "\u001b[0;31m---------------------------------------------------------------------------\u001b[0m",
            "\u001b[0;31mNameError\u001b[0m                                 Traceback (most recent call last)",
            "\u001b[0;32m<ipython-input-21-24553829f138>\u001b[0m in \u001b[0;36m<module>\u001b[0;34m\u001b[0m\n\u001b[1;32m      7\u001b[0m \u001b[0malpha\u001b[0m \u001b[0;34m=\u001b[0m \u001b[0;36m.05\u001b[0m\u001b[0;34m\u001b[0m\u001b[0;34m\u001b[0m\u001b[0m\n\u001b[1;32m      8\u001b[0m \u001b[0malternative\u001b[0m \u001b[0;34m=\u001b[0m \u001b[0;34m'two-tailed'\u001b[0m\u001b[0;34m\u001b[0m\u001b[0;34m\u001b[0m\u001b[0m\n\u001b[0;32m----> 9\u001b[0;31m \u001b[0mone_sample_z_test\u001b[0m\u001b[0;34m(\u001b[0m\u001b[0mP_m\u001b[0m\u001b[0;34m,\u001b[0m \u001b[0ms_m\u001b[0m\u001b[0;34m,\u001b[0m \u001b[0mP_sd\u001b[0m\u001b[0;34m,\u001b[0m \u001b[0ms_n\u001b[0m\u001b[0;34m,\u001b[0m \u001b[0malpha\u001b[0m\u001b[0;34m,\u001b[0m \u001b[0malternative\u001b[0m\u001b[0;34m)\u001b[0m\u001b[0;34m\u001b[0m\u001b[0;34m\u001b[0m\u001b[0m\n\u001b[0m",
            "\u001b[0;31mNameError\u001b[0m: name 'one_sample_z_test' is not defined"
          ]
        }
      ]
    },
    {
      "cell_type": "code",
      "source": [
        "def Two_sample_z_test(s_m_1, s_m_2, s_sd_1, s_sd_2, s_n_1, s_n_2, value, alpha, alternative):\n",
        "  print(\"Two-Sample\", alternative, \"Z-test of difference of sample mean\")\n",
        "  print(\"--------------------------------------------------------------------------------------\")\n",
        "  # The p-value approach\n",
        "  print(\"Approach 1: The p-value approach to hypothesis testing in the decision rule\")\n",
        "  if alternative == \"left-tailed\":\n",
        "    z_stats = (s_m_1 - s_m_2 - value)/math.sqrt(((s_sd_1**2/s_n_1)+(s_sd_2**2/s_n_2)))\n",
        "    p_value = stats.norm.cdf(z_stats)\n",
        "  elif alternative == \"right-tailed\":\n",
        "    z_stats = (s_m_1 - s_m_2 - value)/math.sqrt(((s_sd_1**2/s_n_1)+(s_sd_2**2/s_n_2)))\n",
        "    p_value = 1 - stats.norm.cdf(z_stats) # or stats.norm.sf(z_stats)\n",
        "  elif alternative == \"two-tailed\":\n",
        "    z_stats = (abs(s_m_1 - s_m_2) - value)/math.sqrt(((s_sd_1**2/s_n_1)+(s_sd_2**2/s_n_2)))\n",
        "    z_stats = abs(z_stats)\n",
        "    p_value = 2*(1 - stats.norm.cdf(z_stats))\n",
        "\n",
        "  conclusion = \"Failed to reject the null hypothesis for level of significance = \" + str(alpha)\n",
        "  if p_value <= alpha:\n",
        "    conclusion = \"Null Hypothesis is rejected for level of significance = \" + str(alpha)\n",
        "\n",
        "  print(\"z-statistics is:\", z_stats, \" and p value is:\", p_value)\n",
        "  print(conclusion)\n",
        "# The critical value approach\n",
        "  print(\"\\n--------------------------------------------------------------------------------------\")\n",
        "  print(\"Approach 2: The critical value approach to hypothesis testing in the decision rule\")\n",
        "\n",
        "  conclusion = \"Failed to reject the null hypothesis for level of significance = \" + str(alpha)\n",
        "  if alternative == \"left-tailed\":\n",
        "    z_stats = (s_m_1 - s_m_2 - value)/math.sqrt(((s_sd_1**2/s_n_1)+(s_sd_2**2/s_n_2)))\n",
        "    z_crit = stats.norm.ppf(alpha)\n",
        "    if z_stats < z_crit:\n",
        "      conclusion = \"Null Hypothesis is rejected for level of significance = \" + str(alpha)\n",
        "  elif alternative == \"right-tailed\":\n",
        "    z_stats = (s_m_1 - s_m_2 - value)/math.sqrt(((s_sd_1**2/s_n_1)+(s_sd_2**2/s_n_2)))\n",
        "    z_crit = stats.norm.ppf(1-alpha)\n",
        "    if z_stats > z_crit:\n",
        "      conclusion = \"Null Hypothesis is rejected for level of significance = \" + str(alpha)\n",
        "  elif alternative == \"two-tailed\":\n",
        "    z_stats = (abs(s_m_1 - s_m_2) - value)/math.sqrt(((s_sd_1**2/s_n_1)+(s_sd_2**2/s_n_2)))\n",
        "    z_stats = abs(z_stats)\n",
        "    z_crit = stats.norm.ppf(1 - alpha/2)\n",
        "    if z_stats > z_crit:\n",
        "      conclusion = \"Null Hypothesis is rejected for level of significance = \" + str(alpha)\n",
        "\n",
        "  print(\"z-statistics is:\", z_stats, \" and critical value is:\", z_crit)\n",
        "  print(conclusion)\n",
        "\n"
      ],
      "metadata": {
        "colab": {
          "base_uri": "https://localhost:8080/",
          "height": 168
        },
        "id": "byiMLnqJ06xs",
        "outputId": "cdbff9d4-d9ef-4787-dea3-625dea86f77f"
      },
      "execution_count": null,
      "outputs": [
        {
          "output_type": "error",
          "ename": "SyntaxError",
          "evalue": "ignored",
          "traceback": [
            "\u001b[0;36m  File \u001b[0;32m\"<ipython-input-45-ff4a14e3722f>\"\u001b[0;36m, line \u001b[0;32m1\u001b[0m\n\u001b[0;31m    def Two_sample_z_test(s_m_1, s_m_2, s_sd_1, s_sd_2, s_n_1, s_n_2, value, alpha, alternative):\u001b[0m\n\u001b[0m                        ^\u001b[0m\n\u001b[0;31mSyntaxError\u001b[0m\u001b[0;31m:\u001b[0m invalid character in identifier\n"
          ]
        }
      ]
    },
    {
      "cell_type": "markdown",
      "source": [
        "Q4"
      ],
      "metadata": {
        "id": "GFvHVsL5sqEW"
      }
    },
    {
      "cell_type": "code",
      "source": [
        "path = \"/content/drive/MyDrive/systolic blood pressure.csv\"\n",
        "data = pd.read_csv(path)\n",
        "data"
      ],
      "metadata": {
        "colab": {
          "base_uri": "https://localhost:8080/",
          "height": 424
        },
        "id": "n2T5-vHYsrTF",
        "outputId": "18bae275-35f5-44ad-f8ac-b8fd30b9d995"
      },
      "execution_count": null,
      "outputs": [
        {
          "output_type": "execute_result",
          "data": {
            "text/plain": [
              "     armsys  fingsys\n",
              "0       140      154\n",
              "1       110      112\n",
              "2       138      156\n",
              "3       124      152\n",
              "4       142      142\n",
              "..      ...      ...\n",
              "195     122      136\n",
              "196     100      112\n",
              "197     136      124\n",
              "198     124      120\n",
              "199     100      106\n",
              "\n",
              "[200 rows x 2 columns]"
            ],
            "text/html": [
              "\n",
              "  <div id=\"df-95d44a39-b37a-4d39-b853-acd521db1dad\">\n",
              "    <div class=\"colab-df-container\">\n",
              "      <div>\n",
              "<style scoped>\n",
              "    .dataframe tbody tr th:only-of-type {\n",
              "        vertical-align: middle;\n",
              "    }\n",
              "\n",
              "    .dataframe tbody tr th {\n",
              "        vertical-align: top;\n",
              "    }\n",
              "\n",
              "    .dataframe thead th {\n",
              "        text-align: right;\n",
              "    }\n",
              "</style>\n",
              "<table border=\"1\" class=\"dataframe\">\n",
              "  <thead>\n",
              "    <tr style=\"text-align: right;\">\n",
              "      <th></th>\n",
              "      <th>armsys</th>\n",
              "      <th>fingsys</th>\n",
              "    </tr>\n",
              "  </thead>\n",
              "  <tbody>\n",
              "    <tr>\n",
              "      <th>0</th>\n",
              "      <td>140</td>\n",
              "      <td>154</td>\n",
              "    </tr>\n",
              "    <tr>\n",
              "      <th>1</th>\n",
              "      <td>110</td>\n",
              "      <td>112</td>\n",
              "    </tr>\n",
              "    <tr>\n",
              "      <th>2</th>\n",
              "      <td>138</td>\n",
              "      <td>156</td>\n",
              "    </tr>\n",
              "    <tr>\n",
              "      <th>3</th>\n",
              "      <td>124</td>\n",
              "      <td>152</td>\n",
              "    </tr>\n",
              "    <tr>\n",
              "      <th>4</th>\n",
              "      <td>142</td>\n",
              "      <td>142</td>\n",
              "    </tr>\n",
              "    <tr>\n",
              "      <th>...</th>\n",
              "      <td>...</td>\n",
              "      <td>...</td>\n",
              "    </tr>\n",
              "    <tr>\n",
              "      <th>195</th>\n",
              "      <td>122</td>\n",
              "      <td>136</td>\n",
              "    </tr>\n",
              "    <tr>\n",
              "      <th>196</th>\n",
              "      <td>100</td>\n",
              "      <td>112</td>\n",
              "    </tr>\n",
              "    <tr>\n",
              "      <th>197</th>\n",
              "      <td>136</td>\n",
              "      <td>124</td>\n",
              "    </tr>\n",
              "    <tr>\n",
              "      <th>198</th>\n",
              "      <td>124</td>\n",
              "      <td>120</td>\n",
              "    </tr>\n",
              "    <tr>\n",
              "      <th>199</th>\n",
              "      <td>100</td>\n",
              "      <td>106</td>\n",
              "    </tr>\n",
              "  </tbody>\n",
              "</table>\n",
              "<p>200 rows × 2 columns</p>\n",
              "</div>\n",
              "      <button class=\"colab-df-convert\" onclick=\"convertToInteractive('df-95d44a39-b37a-4d39-b853-acd521db1dad')\"\n",
              "              title=\"Convert this dataframe to an interactive table.\"\n",
              "              style=\"display:none;\">\n",
              "        \n",
              "  <svg xmlns=\"http://www.w3.org/2000/svg\" height=\"24px\"viewBox=\"0 0 24 24\"\n",
              "       width=\"24px\">\n",
              "    <path d=\"M0 0h24v24H0V0z\" fill=\"none\"/>\n",
              "    <path d=\"M18.56 5.44l.94 2.06.94-2.06 2.06-.94-2.06-.94-.94-2.06-.94 2.06-2.06.94zm-11 1L8.5 8.5l.94-2.06 2.06-.94-2.06-.94L8.5 2.5l-.94 2.06-2.06.94zm10 10l.94 2.06.94-2.06 2.06-.94-2.06-.94-.94-2.06-.94 2.06-2.06.94z\"/><path d=\"M17.41 7.96l-1.37-1.37c-.4-.4-.92-.59-1.43-.59-.52 0-1.04.2-1.43.59L10.3 9.45l-7.72 7.72c-.78.78-.78 2.05 0 2.83L4 21.41c.39.39.9.59 1.41.59.51 0 1.02-.2 1.41-.59l7.78-7.78 2.81-2.81c.8-.78.8-2.07 0-2.86zM5.41 20L4 18.59l7.72-7.72 1.47 1.35L5.41 20z\"/>\n",
              "  </svg>\n",
              "      </button>\n",
              "      \n",
              "  <style>\n",
              "    .colab-df-container {\n",
              "      display:flex;\n",
              "      flex-wrap:wrap;\n",
              "      gap: 12px;\n",
              "    }\n",
              "\n",
              "    .colab-df-convert {\n",
              "      background-color: #E8F0FE;\n",
              "      border: none;\n",
              "      border-radius: 50%;\n",
              "      cursor: pointer;\n",
              "      display: none;\n",
              "      fill: #1967D2;\n",
              "      height: 32px;\n",
              "      padding: 0 0 0 0;\n",
              "      width: 32px;\n",
              "    }\n",
              "\n",
              "    .colab-df-convert:hover {\n",
              "      background-color: #E2EBFA;\n",
              "      box-shadow: 0px 1px 2px rgba(60, 64, 67, 0.3), 0px 1px 3px 1px rgba(60, 64, 67, 0.15);\n",
              "      fill: #174EA6;\n",
              "    }\n",
              "\n",
              "    [theme=dark] .colab-df-convert {\n",
              "      background-color: #3B4455;\n",
              "      fill: #D2E3FC;\n",
              "    }\n",
              "\n",
              "    [theme=dark] .colab-df-convert:hover {\n",
              "      background-color: #434B5C;\n",
              "      box-shadow: 0px 1px 3px 1px rgba(0, 0, 0, 0.15);\n",
              "      filter: drop-shadow(0px 1px 2px rgba(0, 0, 0, 0.3));\n",
              "      fill: #FFFFFF;\n",
              "    }\n",
              "  </style>\n",
              "\n",
              "      <script>\n",
              "        const buttonEl =\n",
              "          document.querySelector('#df-95d44a39-b37a-4d39-b853-acd521db1dad button.colab-df-convert');\n",
              "        buttonEl.style.display =\n",
              "          google.colab.kernel.accessAllowed ? 'block' : 'none';\n",
              "\n",
              "        async function convertToInteractive(key) {\n",
              "          const element = document.querySelector('#df-95d44a39-b37a-4d39-b853-acd521db1dad');\n",
              "          const dataTable =\n",
              "            await google.colab.kernel.invokeFunction('convertToInteractive',\n",
              "                                                     [key], {});\n",
              "          if (!dataTable) return;\n",
              "\n",
              "          const docLinkHtml = 'Like what you see? Visit the ' +\n",
              "            '<a target=\"_blank\" href=https://colab.research.google.com/notebooks/data_table.ipynb>data table notebook</a>'\n",
              "            + ' to learn more about interactive tables.';\n",
              "          element.innerHTML = '';\n",
              "          dataTable['output_type'] = 'display_data';\n",
              "          await google.colab.output.renderOutput(dataTable, element);\n",
              "          const docLink = document.createElement('div');\n",
              "          docLink.innerHTML = docLinkHtml;\n",
              "          element.appendChild(docLink);\n",
              "        }\n",
              "      </script>\n",
              "    </div>\n",
              "  </div>\n",
              "  "
            ]
          },
          "metadata": {},
          "execution_count": 23
        }
      ]
    },
    {
      "cell_type": "code",
      "source": [
        "print(\"Null hypothesis is that the mean value of systolic blood pressure measuserd on arm and finger are  the dam ei.e., s_m_1 = s_m_2\")\n",
        "print(\"Alternative hypothesis is that the mean vlaue of systolic blood  pressure on arm and finger are diffrent i.e., s_m_! != s_m_2\")\n",
        "z_statistics, p_value = stests.ztest(data['armsys'], data['fingsys'], value=0, alternative= 'two-sided')\n",
        "print(\"z-statistics is: \", z_statistics, \"p-value is : \", p_value)\n",
        "alpha = 0.05\n",
        "if p_value > alpha:\n",
        "  print(\"Failed to reject the null hypothesis for levelof significance= \" + str(alpha))\n",
        "else:\n",
        "  print(\"Null hypothesis is rejected for level of significane= \" + str(alpha))"
      ],
      "metadata": {
        "colab": {
          "base_uri": "https://localhost:8080/"
        },
        "id": "CQ1hadRIs53j",
        "outputId": "bcbb0c45-f128-4742-cf15-f1218210efa6"
      },
      "execution_count": null,
      "outputs": [
        {
          "output_type": "stream",
          "name": "stdout",
          "text": [
            "Null hypothesis is that the mean value of systolic blood pressure measuserd on arm and finger are  the dam ei.e., s_m_1 = s_m_2\n",
            "Alternative hypothesis is that the mean vlaue of systolic blood  pressure on arm and finger are diffrent i.e., s_m_! != s_m_2\n",
            "z-statistics is:  -1.7533233440871472 p-value is :  0.07954652069053099\n",
            "Failed to reject the null hypothesis for levelof significance= 0.05\n"
          ]
        }
      ]
    },
    {
      "cell_type": "code",
      "source": [
        "print(\"Null hypothesis is that the mean value of systolic blood pressure measuserd on arm and finger are  the dam ei.e., s_m_1 = s_m_2\")\n",
        "print(\"Alternative hypothesis is that the mean vlaue of systolic blood  pressure on arm and finger are diffrent i.e., s_m_! != s_m_2\")\n",
        "s_1 = data['armsys']\n",
        "s_2 = data['armsys']\n",
        "s_m_1 = st.mean(s_1)\n",
        "s_m_2 = st.mean(s_2)\n",
        "s_sd_1 = st.stdev(s_1)\n",
        "s_sd_2 = st.stdev(s_2)\n",
        "s_n_1 = len(s_1)\n",
        "s_n_2 = len(s_2)\n",
        "value = 0\n",
        "alpha = 0.05\n",
        "alternative = \"two-tailed\"\n",
        "Two_sample_z_test(s_m_1, s_m_2, s_sd_1, s_sd_2, s_n_1, s_n_2, value, alpha, alternative)"
      ],
      "metadata": {
        "colab": {
          "base_uri": "https://localhost:8080/",
          "height": 272
        },
        "id": "I_wO3L5kudl3",
        "outputId": "379179c9-7984-4ce6-9466-d673f14e29be"
      },
      "execution_count": null,
      "outputs": [
        {
          "output_type": "stream",
          "name": "stdout",
          "text": [
            "Null hypothesis is that the mean value of systolic blood pressure measuserd on arm and finger are  the dam ei.e., s_m_1 = s_m_2\n",
            "Alternative hypothesis is that the mean vlaue of systolic blood  pressure on arm and finger are diffrent i.e., s_m_! != s_m_2\n"
          ]
        },
        {
          "output_type": "error",
          "ename": "NameError",
          "evalue": "ignored",
          "traceback": [
            "\u001b[0;31m---------------------------------------------------------------------------\u001b[0m",
            "\u001b[0;31mNameError\u001b[0m                                 Traceback (most recent call last)",
            "\u001b[0;32m<ipython-input-27-7c8c2b66d588>\u001b[0m in \u001b[0;36m<module>\u001b[0;34m\u001b[0m\n\u001b[1;32m     12\u001b[0m \u001b[0malpha\u001b[0m \u001b[0;34m=\u001b[0m \u001b[0;36m0.05\u001b[0m\u001b[0;34m\u001b[0m\u001b[0;34m\u001b[0m\u001b[0m\n\u001b[1;32m     13\u001b[0m \u001b[0malternative\u001b[0m \u001b[0;34m=\u001b[0m \u001b[0;34m\"two-tailed\"\u001b[0m\u001b[0;34m\u001b[0m\u001b[0;34m\u001b[0m\u001b[0m\n\u001b[0;32m---> 14\u001b[0;31m \u001b[0mTwo_sample_z_test\u001b[0m\u001b[0;34m(\u001b[0m\u001b[0ms_m_1\u001b[0m\u001b[0;34m,\u001b[0m \u001b[0ms_m_2\u001b[0m\u001b[0;34m,\u001b[0m \u001b[0ms_sd_1\u001b[0m\u001b[0;34m,\u001b[0m \u001b[0ms_sd_2\u001b[0m\u001b[0;34m,\u001b[0m \u001b[0ms_n_1\u001b[0m\u001b[0;34m,\u001b[0m \u001b[0ms_n_2\u001b[0m\u001b[0;34m,\u001b[0m \u001b[0mvalue\u001b[0m\u001b[0;34m,\u001b[0m \u001b[0malpha\u001b[0m\u001b[0;34m,\u001b[0m \u001b[0malternative\u001b[0m\u001b[0;34m)\u001b[0m\u001b[0;34m\u001b[0m\u001b[0;34m\u001b[0m\u001b[0m\n\u001b[0m",
            "\u001b[0;31mNameError\u001b[0m: name 'Two_sample_z_test' is not defined"
          ]
        }
      ]
    },
    {
      "cell_type": "markdown",
      "source": [
        "Q5"
      ],
      "metadata": {
        "id": "e3UlFkIOvrbq"
      }
    },
    {
      "cell_type": "code",
      "source": [
        "path = \"/content/drive/MyDrive/Corona_Updated.csv\"\n",
        "corona = pd.read_csv(path)\n",
        "corona"
      ],
      "metadata": {
        "colab": {
          "base_uri": "https://localhost:8080/",
          "height": 678
        },
        "id": "3pBlHOq8vlPU",
        "outputId": "b64dde7b-efec-4a43-8f76-32c4546097d4"
      },
      "execution_count": null,
      "outputs": [
        {
          "output_type": "execute_result",
          "data": {
            "text/plain": [
              "    Province/State              Country/Region          Last Update  \\\n",
              "0            Hubei              Mainland China  2020-03-10T15:13:05   \n",
              "1              NaN                       Italy  2020-03-10T17:53:02   \n",
              "2              NaN  Iran (Islamic Republic of)  2020-03-10T19:13:20   \n",
              "3              NaN           Republic of Korea  2020-03-10T19:13:20   \n",
              "4              NaN                      France  2020-03-10T18:53:02   \n",
              "..             ...                         ...                  ...   \n",
              "201     New Mexico                          US  2020-03-10T02:33:04   \n",
              "202   North Dakota                          US  2020-03-10T02:33:04   \n",
              "203   South Dakota                          US  2020-03-10T02:33:04   \n",
              "204  West Virginia                          US  2020-03-10T02:33:04   \n",
              "205        Wyoming                          US  2020-03-10T02:33:04   \n",
              "\n",
              "     Confirmed  Deaths  Recovered  Latitude  Longitude  Temprature  Humidity  \\\n",
              "0        67760    3024      47743   30.9756   112.2707        12.5        86   \n",
              "1        10149     631        724   43.0000    12.0000        12.9        64   \n",
              "2         8042     291       2731   32.0000    53.0000        11.9         9   \n",
              "3         7513      54        247   36.0000   128.0000         4.9        41   \n",
              "4         1784      33         12   47.0000     2.0000        11.9        93   \n",
              "..         ...     ...        ...       ...        ...         ...       ...   \n",
              "201          0       0          0   34.8405  -106.2485        10.0        75   \n",
              "202          0       0          0   47.5289   -99.7840         2.7        89   \n",
              "203          0       0          0   44.2998   -99.4388         5.9        69   \n",
              "204          0       0          0   38.4912   -80.9545        10.6        96   \n",
              "205          0       0          0   42.7560  -107.3025        -2.7        91   \n",
              "\n",
              "     Temp_Cat  Humid_Cat  \n",
              "0           1          1  \n",
              "1           1          1  \n",
              "2           0          0  \n",
              "3           0          0  \n",
              "4           0          0  \n",
              "..        ...        ...  \n",
              "201         0          0  \n",
              "202         0          0  \n",
              "203         0          0  \n",
              "204         0          0  \n",
              "205         0          0  \n",
              "\n",
              "[206 rows x 12 columns]"
            ],
            "text/html": [
              "\n",
              "  <div id=\"df-09619784-0d3a-461b-91f7-54e0e3ff74a7\">\n",
              "    <div class=\"colab-df-container\">\n",
              "      <div>\n",
              "<style scoped>\n",
              "    .dataframe tbody tr th:only-of-type {\n",
              "        vertical-align: middle;\n",
              "    }\n",
              "\n",
              "    .dataframe tbody tr th {\n",
              "        vertical-align: top;\n",
              "    }\n",
              "\n",
              "    .dataframe thead th {\n",
              "        text-align: right;\n",
              "    }\n",
              "</style>\n",
              "<table border=\"1\" class=\"dataframe\">\n",
              "  <thead>\n",
              "    <tr style=\"text-align: right;\">\n",
              "      <th></th>\n",
              "      <th>Province/State</th>\n",
              "      <th>Country/Region</th>\n",
              "      <th>Last Update</th>\n",
              "      <th>Confirmed</th>\n",
              "      <th>Deaths</th>\n",
              "      <th>Recovered</th>\n",
              "      <th>Latitude</th>\n",
              "      <th>Longitude</th>\n",
              "      <th>Temprature</th>\n",
              "      <th>Humidity</th>\n",
              "      <th>Temp_Cat</th>\n",
              "      <th>Humid_Cat</th>\n",
              "    </tr>\n",
              "  </thead>\n",
              "  <tbody>\n",
              "    <tr>\n",
              "      <th>0</th>\n",
              "      <td>Hubei</td>\n",
              "      <td>Mainland China</td>\n",
              "      <td>2020-03-10T15:13:05</td>\n",
              "      <td>67760</td>\n",
              "      <td>3024</td>\n",
              "      <td>47743</td>\n",
              "      <td>30.9756</td>\n",
              "      <td>112.2707</td>\n",
              "      <td>12.5</td>\n",
              "      <td>86</td>\n",
              "      <td>1</td>\n",
              "      <td>1</td>\n",
              "    </tr>\n",
              "    <tr>\n",
              "      <th>1</th>\n",
              "      <td>NaN</td>\n",
              "      <td>Italy</td>\n",
              "      <td>2020-03-10T17:53:02</td>\n",
              "      <td>10149</td>\n",
              "      <td>631</td>\n",
              "      <td>724</td>\n",
              "      <td>43.0000</td>\n",
              "      <td>12.0000</td>\n",
              "      <td>12.9</td>\n",
              "      <td>64</td>\n",
              "      <td>1</td>\n",
              "      <td>1</td>\n",
              "    </tr>\n",
              "    <tr>\n",
              "      <th>2</th>\n",
              "      <td>NaN</td>\n",
              "      <td>Iran (Islamic Republic of)</td>\n",
              "      <td>2020-03-10T19:13:20</td>\n",
              "      <td>8042</td>\n",
              "      <td>291</td>\n",
              "      <td>2731</td>\n",
              "      <td>32.0000</td>\n",
              "      <td>53.0000</td>\n",
              "      <td>11.9</td>\n",
              "      <td>9</td>\n",
              "      <td>0</td>\n",
              "      <td>0</td>\n",
              "    </tr>\n",
              "    <tr>\n",
              "      <th>3</th>\n",
              "      <td>NaN</td>\n",
              "      <td>Republic of Korea</td>\n",
              "      <td>2020-03-10T19:13:20</td>\n",
              "      <td>7513</td>\n",
              "      <td>54</td>\n",
              "      <td>247</td>\n",
              "      <td>36.0000</td>\n",
              "      <td>128.0000</td>\n",
              "      <td>4.9</td>\n",
              "      <td>41</td>\n",
              "      <td>0</td>\n",
              "      <td>0</td>\n",
              "    </tr>\n",
              "    <tr>\n",
              "      <th>4</th>\n",
              "      <td>NaN</td>\n",
              "      <td>France</td>\n",
              "      <td>2020-03-10T18:53:02</td>\n",
              "      <td>1784</td>\n",
              "      <td>33</td>\n",
              "      <td>12</td>\n",
              "      <td>47.0000</td>\n",
              "      <td>2.0000</td>\n",
              "      <td>11.9</td>\n",
              "      <td>93</td>\n",
              "      <td>0</td>\n",
              "      <td>0</td>\n",
              "    </tr>\n",
              "    <tr>\n",
              "      <th>...</th>\n",
              "      <td>...</td>\n",
              "      <td>...</td>\n",
              "      <td>...</td>\n",
              "      <td>...</td>\n",
              "      <td>...</td>\n",
              "      <td>...</td>\n",
              "      <td>...</td>\n",
              "      <td>...</td>\n",
              "      <td>...</td>\n",
              "      <td>...</td>\n",
              "      <td>...</td>\n",
              "      <td>...</td>\n",
              "    </tr>\n",
              "    <tr>\n",
              "      <th>201</th>\n",
              "      <td>New Mexico</td>\n",
              "      <td>US</td>\n",
              "      <td>2020-03-10T02:33:04</td>\n",
              "      <td>0</td>\n",
              "      <td>0</td>\n",
              "      <td>0</td>\n",
              "      <td>34.8405</td>\n",
              "      <td>-106.2485</td>\n",
              "      <td>10.0</td>\n",
              "      <td>75</td>\n",
              "      <td>0</td>\n",
              "      <td>0</td>\n",
              "    </tr>\n",
              "    <tr>\n",
              "      <th>202</th>\n",
              "      <td>North Dakota</td>\n",
              "      <td>US</td>\n",
              "      <td>2020-03-10T02:33:04</td>\n",
              "      <td>0</td>\n",
              "      <td>0</td>\n",
              "      <td>0</td>\n",
              "      <td>47.5289</td>\n",
              "      <td>-99.7840</td>\n",
              "      <td>2.7</td>\n",
              "      <td>89</td>\n",
              "      <td>0</td>\n",
              "      <td>0</td>\n",
              "    </tr>\n",
              "    <tr>\n",
              "      <th>203</th>\n",
              "      <td>South Dakota</td>\n",
              "      <td>US</td>\n",
              "      <td>2020-03-10T02:33:04</td>\n",
              "      <td>0</td>\n",
              "      <td>0</td>\n",
              "      <td>0</td>\n",
              "      <td>44.2998</td>\n",
              "      <td>-99.4388</td>\n",
              "      <td>5.9</td>\n",
              "      <td>69</td>\n",
              "      <td>0</td>\n",
              "      <td>0</td>\n",
              "    </tr>\n",
              "    <tr>\n",
              "      <th>204</th>\n",
              "      <td>West Virginia</td>\n",
              "      <td>US</td>\n",
              "      <td>2020-03-10T02:33:04</td>\n",
              "      <td>0</td>\n",
              "      <td>0</td>\n",
              "      <td>0</td>\n",
              "      <td>38.4912</td>\n",
              "      <td>-80.9545</td>\n",
              "      <td>10.6</td>\n",
              "      <td>96</td>\n",
              "      <td>0</td>\n",
              "      <td>0</td>\n",
              "    </tr>\n",
              "    <tr>\n",
              "      <th>205</th>\n",
              "      <td>Wyoming</td>\n",
              "      <td>US</td>\n",
              "      <td>2020-03-10T02:33:04</td>\n",
              "      <td>0</td>\n",
              "      <td>0</td>\n",
              "      <td>0</td>\n",
              "      <td>42.7560</td>\n",
              "      <td>-107.3025</td>\n",
              "      <td>-2.7</td>\n",
              "      <td>91</td>\n",
              "      <td>0</td>\n",
              "      <td>0</td>\n",
              "    </tr>\n",
              "  </tbody>\n",
              "</table>\n",
              "<p>206 rows × 12 columns</p>\n",
              "</div>\n",
              "      <button class=\"colab-df-convert\" onclick=\"convertToInteractive('df-09619784-0d3a-461b-91f7-54e0e3ff74a7')\"\n",
              "              title=\"Convert this dataframe to an interactive table.\"\n",
              "              style=\"display:none;\">\n",
              "        \n",
              "  <svg xmlns=\"http://www.w3.org/2000/svg\" height=\"24px\"viewBox=\"0 0 24 24\"\n",
              "       width=\"24px\">\n",
              "    <path d=\"M0 0h24v24H0V0z\" fill=\"none\"/>\n",
              "    <path d=\"M18.56 5.44l.94 2.06.94-2.06 2.06-.94-2.06-.94-.94-2.06-.94 2.06-2.06.94zm-11 1L8.5 8.5l.94-2.06 2.06-.94-2.06-.94L8.5 2.5l-.94 2.06-2.06.94zm10 10l.94 2.06.94-2.06 2.06-.94-2.06-.94-.94-2.06-.94 2.06-2.06.94z\"/><path d=\"M17.41 7.96l-1.37-1.37c-.4-.4-.92-.59-1.43-.59-.52 0-1.04.2-1.43.59L10.3 9.45l-7.72 7.72c-.78.78-.78 2.05 0 2.83L4 21.41c.39.39.9.59 1.41.59.51 0 1.02-.2 1.41-.59l7.78-7.78 2.81-2.81c.8-.78.8-2.07 0-2.86zM5.41 20L4 18.59l7.72-7.72 1.47 1.35L5.41 20z\"/>\n",
              "  </svg>\n",
              "      </button>\n",
              "      \n",
              "  <style>\n",
              "    .colab-df-container {\n",
              "      display:flex;\n",
              "      flex-wrap:wrap;\n",
              "      gap: 12px;\n",
              "    }\n",
              "\n",
              "    .colab-df-convert {\n",
              "      background-color: #E8F0FE;\n",
              "      border: none;\n",
              "      border-radius: 50%;\n",
              "      cursor: pointer;\n",
              "      display: none;\n",
              "      fill: #1967D2;\n",
              "      height: 32px;\n",
              "      padding: 0 0 0 0;\n",
              "      width: 32px;\n",
              "    }\n",
              "\n",
              "    .colab-df-convert:hover {\n",
              "      background-color: #E2EBFA;\n",
              "      box-shadow: 0px 1px 2px rgba(60, 64, 67, 0.3), 0px 1px 3px 1px rgba(60, 64, 67, 0.15);\n",
              "      fill: #174EA6;\n",
              "    }\n",
              "\n",
              "    [theme=dark] .colab-df-convert {\n",
              "      background-color: #3B4455;\n",
              "      fill: #D2E3FC;\n",
              "    }\n",
              "\n",
              "    [theme=dark] .colab-df-convert:hover {\n",
              "      background-color: #434B5C;\n",
              "      box-shadow: 0px 1px 3px 1px rgba(0, 0, 0, 0.15);\n",
              "      filter: drop-shadow(0px 1px 2px rgba(0, 0, 0, 0.3));\n",
              "      fill: #FFFFFF;\n",
              "    }\n",
              "  </style>\n",
              "\n",
              "      <script>\n",
              "        const buttonEl =\n",
              "          document.querySelector('#df-09619784-0d3a-461b-91f7-54e0e3ff74a7 button.colab-df-convert');\n",
              "        buttonEl.style.display =\n",
              "          google.colab.kernel.accessAllowed ? 'block' : 'none';\n",
              "\n",
              "        async function convertToInteractive(key) {\n",
              "          const element = document.querySelector('#df-09619784-0d3a-461b-91f7-54e0e3ff74a7');\n",
              "          const dataTable =\n",
              "            await google.colab.kernel.invokeFunction('convertToInteractive',\n",
              "                                                     [key], {});\n",
              "          if (!dataTable) return;\n",
              "\n",
              "          const docLinkHtml = 'Like what you see? Visit the ' +\n",
              "            '<a target=\"_blank\" href=https://colab.research.google.com/notebooks/data_table.ipynb>data table notebook</a>'\n",
              "            + ' to learn more about interactive tables.';\n",
              "          element.innerHTML = '';\n",
              "          dataTable['output_type'] = 'display_data';\n",
              "          await google.colab.output.renderOutput(dataTable, element);\n",
              "          const docLink = document.createElement('div');\n",
              "          docLink.innerHTML = docLinkHtml;\n",
              "          element.appendChild(docLink);\n",
              "        }\n",
              "      </script>\n",
              "    </div>\n",
              "  </div>\n",
              "  "
            ]
          },
          "metadata": {},
          "execution_count": 28
        }
      ]
    },
    {
      "cell_type": "code",
      "source": [
        "corona['Temp_Cat'] = corona['Temprature'].apply(lambda x:0  if x<24 else 1)\n",
        "corona_t = corona[['Confirmed','Temp_Cat']]\n",
        "s_1 = corona_t[(corona_t['Temp_Cat']==1)]['Confirmed']\n",
        "s_2  = corona_t[(corona_t['Temp_Cat']==0)]['Confirmed']"
      ],
      "metadata": {
        "id": "fkXbQ8Ryv4aS"
      },
      "execution_count": null,
      "outputs": []
    },
    {
      "cell_type": "code",
      "source": [
        "print(\"Null hypotheis is that the temerature of climate is not significant to the corona outbreak i.e., s_m_1 = s_m_2\")\n",
        "print(\"Alternative hypotheis is that warm climate is more resistant to the corona outbreak as compared to cold climate i.e., s_m_1 != s_m_2\")\n",
        "test = 'two-tailed'\n",
        "alpha = 0.05\n",
        "s_m_1  = st.mean(s_1)\n",
        "s_m_2 = st.mean(s_2)\n",
        "s_sd_1 = st.stdev(s_1)\n",
        "s_sd_2 = st.stdev(s_2)\n",
        "s_n_1 = len(s_1)\n",
        "s_n_2 = len(s_2)\n",
        "value = 0\n",
        "alternative = \"two-tailed\"\n",
        "Two_sample_z_test(s_m_1, s_m_2, s_sd_1, s_sd_2, s_n_1, s_n_2, value, alpha, alternative)"
      ],
      "metadata": {
        "colab": {
          "base_uri": "https://localhost:8080/",
          "height": 272
        },
        "id": "if5ExqxXx-Ey",
        "outputId": "26b3078e-2288-49dc-f8f1-855d3d62047a"
      },
      "execution_count": null,
      "outputs": [
        {
          "output_type": "stream",
          "name": "stdout",
          "text": [
            "Null hypotheis is that the temerature of climate is not significant to the corona outbreak i.e., s_m_1 = s_m_2\n",
            "Alternative hypotheis is that warm climate is more resistant to the corona outbreak as compared to cold climate i.e., s_m_1 != s_m_2\n"
          ]
        },
        {
          "output_type": "error",
          "ename": "NameError",
          "evalue": "ignored",
          "traceback": [
            "\u001b[0;31m---------------------------------------------------------------------------\u001b[0m",
            "\u001b[0;31mNameError\u001b[0m                                 Traceback (most recent call last)",
            "\u001b[0;32m<ipython-input-42-4462508c14d7>\u001b[0m in \u001b[0;36m<module>\u001b[0;34m\u001b[0m\n\u001b[1;32m     11\u001b[0m \u001b[0mvalue\u001b[0m \u001b[0;34m=\u001b[0m \u001b[0;36m0\u001b[0m\u001b[0;34m\u001b[0m\u001b[0;34m\u001b[0m\u001b[0m\n\u001b[1;32m     12\u001b[0m \u001b[0malternative\u001b[0m \u001b[0;34m=\u001b[0m \u001b[0;34m\"two-tailed\"\u001b[0m\u001b[0;34m\u001b[0m\u001b[0;34m\u001b[0m\u001b[0m\n\u001b[0;32m---> 13\u001b[0;31m \u001b[0mTwo_sample_z_test\u001b[0m\u001b[0;34m(\u001b[0m\u001b[0ms_m_1\u001b[0m\u001b[0;34m,\u001b[0m \u001b[0ms_m_2\u001b[0m\u001b[0;34m,\u001b[0m \u001b[0ms_sd_1\u001b[0m\u001b[0;34m,\u001b[0m \u001b[0ms_sd_2\u001b[0m\u001b[0;34m,\u001b[0m \u001b[0ms_n_1\u001b[0m\u001b[0;34m,\u001b[0m \u001b[0ms_n_2\u001b[0m\u001b[0;34m,\u001b[0m \u001b[0mvalue\u001b[0m\u001b[0;34m,\u001b[0m \u001b[0malpha\u001b[0m\u001b[0;34m,\u001b[0m \u001b[0malternative\u001b[0m\u001b[0;34m)\u001b[0m\u001b[0;34m\u001b[0m\u001b[0;34m\u001b[0m\u001b[0m\n\u001b[0m",
            "\u001b[0;31mNameError\u001b[0m: name 'Two_sample_z_test' is not defined"
          ]
        }
      ]
    },
    {
      "cell_type": "markdown",
      "source": [
        "Q6"
      ],
      "metadata": {
        "id": "KFRDxuof1SZR"
      }
    },
    {
      "cell_type": "code",
      "source": [
        "print(\"Null hyothesis is that the diffrence between the averages of the two classes id 40, s_m_1 = s_m_2\")\n",
        "print(\"Altenative hypotheis that the diffrence between the averages of the teo classes id not equal to 40, s_m_1 != s_m_2\")\n",
        "alpha = 0.05\n",
        "alternative = \"two-tailed\"\n",
        "s_m_1 = 380\n",
        "s_m_2 = 410\n",
        "s_sd_1 = 120\n",
        "s_sd_2 = 80\n",
        "s_n_1 = 400\n",
        "s_n_2 = 600\n",
        "value = 40\n",
        "Two_sample_z_test(s_m_1, s_m_2, s_sd_1, s_sd_2, s_n_1, s_n_2, value, alpha, alternative)"
      ],
      "metadata": {
        "colab": {
          "base_uri": "https://localhost:8080/",
          "height": 272
        },
        "id": "YsQAawYLzB2v",
        "outputId": "7c445acc-69d1-4def-eb51-7a80b051ced2"
      },
      "execution_count": null,
      "outputs": [
        {
          "output_type": "stream",
          "name": "stdout",
          "text": [
            "Null hyothesis is that the diffrence between the averages of the two classes id 40, s_m_1 = s_m_2\n",
            "Altenative hypotheis that the diffrence between the averages of the teo classes id not equal to 40, s_m_1 != s_m_2\n"
          ]
        },
        {
          "output_type": "error",
          "ename": "NameError",
          "evalue": "ignored",
          "traceback": [
            "\u001b[0;31m---------------------------------------------------------------------------\u001b[0m",
            "\u001b[0;31mNameError\u001b[0m                                 Traceback (most recent call last)",
            "\u001b[0;32m<ipython-input-46-022c380d4d46>\u001b[0m in \u001b[0;36m<module>\u001b[0;34m\u001b[0m\n\u001b[1;32m     10\u001b[0m \u001b[0ms_n_2\u001b[0m \u001b[0;34m=\u001b[0m \u001b[0;36m600\u001b[0m\u001b[0;34m\u001b[0m\u001b[0;34m\u001b[0m\u001b[0m\n\u001b[1;32m     11\u001b[0m \u001b[0mvalue\u001b[0m \u001b[0;34m=\u001b[0m \u001b[0;36m40\u001b[0m\u001b[0;34m\u001b[0m\u001b[0;34m\u001b[0m\u001b[0m\n\u001b[0;32m---> 12\u001b[0;31m \u001b[0mTwo_sample_z_test\u001b[0m\u001b[0;34m(\u001b[0m\u001b[0ms_m_1\u001b[0m\u001b[0;34m,\u001b[0m \u001b[0ms_m_2\u001b[0m\u001b[0;34m,\u001b[0m \u001b[0ms_sd_1\u001b[0m\u001b[0;34m,\u001b[0m \u001b[0ms_sd_2\u001b[0m\u001b[0;34m,\u001b[0m \u001b[0ms_n_1\u001b[0m\u001b[0;34m,\u001b[0m \u001b[0ms_n_2\u001b[0m\u001b[0;34m,\u001b[0m \u001b[0mvalue\u001b[0m\u001b[0;34m,\u001b[0m \u001b[0malpha\u001b[0m\u001b[0;34m,\u001b[0m \u001b[0malternative\u001b[0m\u001b[0;34m)\u001b[0m\u001b[0;34m\u001b[0m\u001b[0;34m\u001b[0m\u001b[0m\n\u001b[0m",
            "\u001b[0;31mNameError\u001b[0m: name 'Two_sample_z_test' is not defined"
          ]
        }
      ]
    },
    {
      "cell_type": "markdown",
      "source": [
        "Q7"
      ],
      "metadata": {
        "id": "NZuGwFDB3qHY"
      }
    },
    {
      "cell_type": "code",
      "source": [
        "print(\"Null hypotehis is thet the differnce of the means will exceed 0.3 where is the smaller standard deviation i.e., |s_m_1 - s_m_2| = 0.3\")\n",
        "print(\"Alternative hypotheis is that the differnce of the means will not exceed 0.3 where is the smaller standard deviation i.e. |s_m_1 - s_m_2| = \")\n",
        "alpha = 0.05\n",
        "s_m_1 = 10\n",
        "s_m_2 = 10\n",
        "alternative = 'left-tailed'\n",
        "s_sd_1 = 2\n",
        "s_sd_2 = 4\n",
        "s_n_1 = 500\n",
        "s_n_2 = 500\n",
        "value = 0.3*s_sd_1\n",
        "Two_sample_z_test(s_m_1, s_m_2, s_sd_1, s_sd_2, s_n_1, s_n_2, value, alpha, alternative)"
      ],
      "metadata": {
        "colab": {
          "base_uri": "https://localhost:8080/",
          "height": 272
        },
        "id": "i4ImmTn02bEi",
        "outputId": "b2abe6b0-d56b-4684-af92-b6c8fed22141"
      },
      "execution_count": null,
      "outputs": [
        {
          "output_type": "stream",
          "name": "stdout",
          "text": [
            "Null hypotehis is thet the differnce of the means will exceed 0.3 where is the smaller standard deviation i.e., |s_m_1 - s_m_2| = 0.3\n",
            "Alternative hypotheis is that the differnce of the means will not exceed 0.3 where is the smaller standard deviation i.e. |s_m_1 - s_m_2| = \n"
          ]
        },
        {
          "output_type": "error",
          "ename": "NameError",
          "evalue": "ignored",
          "traceback": [
            "\u001b[0;31m---------------------------------------------------------------------------\u001b[0m",
            "\u001b[0;31mNameError\u001b[0m                                 Traceback (most recent call last)",
            "\u001b[0;32m<ipython-input-48-6d68a562d6e9>\u001b[0m in \u001b[0;36m<module>\u001b[0;34m\u001b[0m\n\u001b[1;32m     10\u001b[0m \u001b[0ms_n_2\u001b[0m \u001b[0;34m=\u001b[0m \u001b[0;36m500\u001b[0m\u001b[0;34m\u001b[0m\u001b[0;34m\u001b[0m\u001b[0m\n\u001b[1;32m     11\u001b[0m \u001b[0mvalue\u001b[0m \u001b[0;34m=\u001b[0m \u001b[0;36m0.3\u001b[0m\u001b[0;34m*\u001b[0m\u001b[0ms_sd_1\u001b[0m\u001b[0;34m\u001b[0m\u001b[0;34m\u001b[0m\u001b[0m\n\u001b[0;32m---> 12\u001b[0;31m \u001b[0mTwo_sample_z_test\u001b[0m\u001b[0;34m(\u001b[0m\u001b[0ms_m_1\u001b[0m\u001b[0;34m,\u001b[0m \u001b[0ms_m_2\u001b[0m\u001b[0;34m,\u001b[0m \u001b[0ms_sd_1\u001b[0m\u001b[0;34m,\u001b[0m \u001b[0ms_sd_2\u001b[0m\u001b[0;34m,\u001b[0m \u001b[0ms_n_1\u001b[0m\u001b[0;34m,\u001b[0m \u001b[0ms_n_2\u001b[0m\u001b[0;34m,\u001b[0m \u001b[0mvalue\u001b[0m\u001b[0;34m,\u001b[0m \u001b[0malpha\u001b[0m\u001b[0;34m,\u001b[0m \u001b[0malternative\u001b[0m\u001b[0;34m)\u001b[0m\u001b[0;34m\u001b[0m\u001b[0;34m\u001b[0m\u001b[0m\n\u001b[0m",
            "\u001b[0;31mNameError\u001b[0m: name 'Two_sample_z_test' is not defined"
          ]
        }
      ]
    }
  ]
}