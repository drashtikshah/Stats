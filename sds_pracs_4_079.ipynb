{
  "nbformat": 4,
  "nbformat_minor": 0,
  "metadata": {
    "colab": {
      "provenance": [],
      "authorship_tag": "ABX9TyOd6VBxgo+IkoVuG8f8y+aw",
      "include_colab_link": true
    },
    "kernelspec": {
      "name": "python3",
      "display_name": "Python 3"
    },
    "language_info": {
      "name": "python"
    }
  },
  "cells": [
    {
      "cell_type": "markdown",
      "metadata": {
        "id": "view-in-github",
        "colab_type": "text"
      },
      "source": [
        "<a href=\"https://colab.research.google.com/github/drashtikshah/Stats/blob/main/sds_pracs_4_079.ipynb\" target=\"_parent\"><img src=\"https://colab.research.google.com/assets/colab-badge.svg\" alt=\"Open In Colab\"/></a>"
      ]
    },
    {
      "cell_type": "code",
      "execution_count": null,
      "metadata": {
        "id": "mWz-BGjFXhCf"
      },
      "outputs": [],
      "source": [
        "import numpy as np\n",
        "import scipy\n",
        "import statistics as st\n",
        "import math\n",
        "import matplotlib.pyplot as plt"
      ]
    },
    {
      "cell_type": "code",
      "source": [
        "from scipy.stats import binom"
      ],
      "metadata": {
        "id": "EFLTWcpmZAlF"
      },
      "execution_count": null,
      "outputs": []
    },
    {
      "cell_type": "code",
      "source": [
        "#Q1\n",
        "#let us consider having pets as dogs = success and pet a a cat= failure, and both are equiproable.\n",
        "N = 800          #total number os families\n",
        "#(i) 2 dogs and 2 cat\n",
        "p_2dogsand2cats = binom.pmf(k =2, n=4, p=0.5)\n",
        "print(\"Proability of families having 2 dogs and 3 cats as a pet = \" + str(p_2dogsand2cats))\n",
        "print(\"Total number of families having 2 dogs and 2 cats as pet = \" + str(int(N*p_2dogsand2cats)))\n"
      ],
      "metadata": {
        "colab": {
          "base_uri": "https://localhost:8080/"
        },
        "id": "QTkxJow9a5eA",
        "outputId": "4165da21-3288-4217-b18d-bbf281f50caf"
      },
      "execution_count": null,
      "outputs": [
        {
          "output_type": "stream",
          "name": "stdout",
          "text": [
            "Proability of families having 2 dogs and 3 cats as a pet = 0.375\n",
            "Total number of families having 2 dogs and 2 cats as pet = 300\n"
          ]
        }
      ]
    },
    {
      "cell_type": "code",
      "source": [
        "#(ii) at least one dog\n",
        "P_0dogs4cats = binom.pmf(k=0, n=4, p=0.5)\n",
        "P_atleast1dog = 1-P_0dogs4cats\n",
        "print(\"Proablilites of families having atleast 1 dog as a pet = \" + str(P_atleast1dog))\n",
        "print(\"Total number of families having alteast 1 dog as a pet = \", + str(int(N*P_atleast1dog)))"
      ],
      "metadata": {
        "id": "84dbV9M3cNQa"
      },
      "execution_count": null,
      "outputs": []
    },
    {
      "cell_type": "code",
      "source": [
        "#(iii) atmost 2 cats\n",
        "P_atmost2cats = binom.sf(k=1, n=4, p=0.5)\n",
        "#P_atmost2cats = 1- P_atmost1dog\n",
        "print(\"Proability of families having atmost 2 cats as a pet =  \", + str(P_atmost2cats))\n",
        "print(\"Total number of families having atmost 2 cats as a pet = \" + str(int(N*P_atmost2cats)))"
      ],
      "metadata": {
        "id": "8SUhmi5RdROI"
      },
      "execution_count": null,
      "outputs": []
    },
    {
      "cell_type": "code",
      "source": [
        "#(iv) combinaton of both cat and dog\n",
        "P_0dog4cats = binom.pmf(k=0, n=4, p=0.5)\n",
        "P_4dogs0cats = binom.pmf(k=4, n=4, p=0.5)\n",
        "P_bothdogandcat = 1 - (P_0dogs4cats + P_4dogs0cats)\n",
        "print(\"Poability of families having cobination of btoh dog and cat as a pet = \", str(P_bothdogandcat))\n",
        "print(\"Total number of families having atmost 2 cats as a pet = \" + str(int(N*P_bothdogandcat))\")"
      ],
      "metadata": {
        "id": "IvuVQFJoeSrY"
      },
      "execution_count": null,
      "outputs": []
    },
    {
      "cell_type": "code",
      "source": [
        "from scipy.stats import poisson"
      ],
      "metadata": {
        "id": "86pBd3eDhM9w"
      },
      "execution_count": null,
      "outputs": []
    },
    {
      "cell_type": "code",
      "source": [
        "#Q2\n",
        "lamb = 1.8\n",
        "P_withoutbreakdown = poisson.pmf(0, lamb)\n",
        "print(\"Proability othat the computer will function for a month without a breakdown = \" + str(P_withoutbreakdown))"
      ],
      "metadata": {
        "colab": {
          "base_uri": "https://localhost:8080/"
        },
        "id": "Y2mjm0kCfRYf",
        "outputId": "fd50160b-f580-4905-8775-e89cc6859632"
      },
      "execution_count": null,
      "outputs": [
        {
          "output_type": "stream",
          "name": "stdout",
          "text": [
            "Proability othat the computer will function for a month without a breakdown = 0.16529888822158653\n"
          ]
        }
      ]
    },
    {
      "cell_type": "code",
      "source": [
        "#(ii) with only one breakdown\n",
        "P_withonlyonebreakdown = poisson.pmf(1, lamb)\n",
        "print(\"proability that the computer will function for a month with only one breakdown = \" + str(P_withonlyonebreakdown))"
      ],
      "metadata": {
        "colab": {
          "base_uri": "https://localhost:8080/"
        },
        "id": "V75UQcDifr8H",
        "outputId": "70d5771b-dd9b-4463-8148-249ab09b8691"
      },
      "execution_count": null,
      "outputs": [
        {
          "output_type": "stream",
          "name": "stdout",
          "text": [
            "proability that the computer will function for a month with only one breakdown = 0.2975379987988558\n"
          ]
        }
      ]
    },
    {
      "cell_type": "code",
      "source": [
        "#(iii) with atleast two breakdown\n",
        "P_withatleasttwobreakdown = 1 - poisson.cdf(1, lamb)\n",
        "print(\"proability that the computer will function for a month with atleast two breakdown = \" + str(P_withatleasttwobreakdown))"
      ],
      "metadata": {
        "colab": {
          "base_uri": "https://localhost:8080/"
        },
        "id": "6JMYAce8gLDn",
        "outputId": "0748a569-9f96-4604-dabc-1bfd4a8ba693"
      },
      "execution_count": null,
      "outputs": [
        {
          "output_type": "stream",
          "name": "stdout",
          "text": [
            "proability that the computer will function for a month with atleast two breakdown = 0.5371631129795577\n"
          ]
        }
      ]
    },
    {
      "cell_type": "code",
      "source": [
        "from scipy.stats import hypergeom"
      ],
      "metadata": {
        "id": "7WKu0qfTgym6"
      },
      "execution_count": null,
      "outputs": []
    },
    {
      "cell_type": "code",
      "source": [
        "#Q3\n",
        "N = 20\n",
        "k =12\n",
        "n = 5\n",
        "P_3amband2fiat = hypergeom.pmf(3, N, n, k)\n",
        "print(\"proability of 3 ambassodars and 2 fiats =  \", str(P_3amband2fiat))"
      ],
      "metadata": {
        "colab": {
          "base_uri": "https://localhost:8080/"
        },
        "id": "JnJiEfQqh1jJ",
        "outputId": "99c94524-8e99-4364-c8a0-6584a9b694ee"
      },
      "execution_count": null,
      "outputs": [
        {
          "output_type": "stream",
          "name": "stdout",
          "text": [
            "proability of 3 ambassodars and 2 fiats =   0.3973168214654289\n"
          ]
        }
      ]
    },
    {
      "cell_type": "code",
      "source": [
        "#(ii) atleats 3 of them are ambassodars\n",
        "N = 20\n",
        "k =12\n",
        "n = 5\n",
        "P_atleast3amb = 1 - hypergeom.cdf(2, N, n, k)\n",
        "print(\"proability of alteast 3 of them are ambassodars =\" + str(P_atleast3amb))"
      ],
      "metadata": {
        "colab": {
          "base_uri": "https://localhost:8080/"
        },
        "id": "Wr8DitoNigp8",
        "outputId": "3b240e48-9741-41cc-ee34-0af43fac7897"
      },
      "execution_count": null,
      "outputs": [
        {
          "output_type": "stream",
          "name": "stdout",
          "text": [
            "proability of alteast 3 of them are ambassodars =0.7038183694530438\n"
          ]
        }
      ]
    },
    {
      "cell_type": "code",
      "source": [
        "#(iii) all five are of the same make\n",
        "N = 20\n",
        "k =12\n",
        "n = 5\n",
        "P_allaresame = hypergeom.pmf(0, N, n, k) + hypergeom.pmf(5, N, n, k)\n",
        "print(\"probility that all five are of the same make = \" + str(P_allaresame))"
      ],
      "metadata": {
        "colab": {
          "base_uri": "https://localhost:8080/"
        },
        "id": "ZHlSMFChigwR",
        "outputId": "23f43656-1a1d-4038-c578-545dd7e3ee51"
      },
      "execution_count": null,
      "outputs": [
        {
          "output_type": "stream",
          "name": "stdout",
          "text": [
            "probility that all five are of the same make = 0.05469556243550056\n"
          ]
        }
      ]
    },
    {
      "cell_type": "code",
      "source": [
        "from scipy.stats import uniform"
      ],
      "metadata": {
        "id": "cV2wjIX_lEfk"
      },
      "execution_count": null,
      "outputs": []
    },
    {
      "cell_type": "code",
      "source": [
        "#Q4(i) proability that he waits less than 5 mins for  a bus and let that proability be P1\n",
        "P1 = (uniform.cdf(15, loc=0, scale= 30) - uniform.cdf(10, loc=0, scale=30)) + (uniform.cdf(30, loc=0, scale=30) - uniform.cdf(25, loc=0, scale=30))\n",
        "print(\"proability that he waits less thann 5 mins for a bus= \" + str(P1))"
      ],
      "metadata": {
        "colab": {
          "base_uri": "https://localhost:8080/"
        },
        "id": "dUbb8OBAkOdb",
        "outputId": "9e2a6eaf-0694-4e1e-8fff-f9373a10b784"
      },
      "execution_count": null,
      "outputs": [
        {
          "output_type": "stream",
          "name": "stdout",
          "text": [
            "proability that he waits less thann 5 mins for a bus= 0.3333333333333333\n"
          ]
        }
      ]
    },
    {
      "cell_type": "code",
      "source": [
        "#(ii) proability that he waits for atleast 12 mins the proability be P2\n",
        "P2 = uniform.cdf(3, loc=0, scale=30) - (uniform.cdf(18, loc=0, scale=30) - uniform.cdf(15, loc=0, scale=30))\n",
        "print(\"proability that he waits for less than 12 min for a bus= \" + str(P2))"
      ],
      "metadata": {
        "colab": {
          "base_uri": "https://localhost:8080/"
        },
        "id": "poH306_FmRUC",
        "outputId": "23bb436a-3444-4325-dd0c-907305fcfad6"
      },
      "execution_count": null,
      "outputs": [
        {
          "output_type": "stream",
          "name": "stdout",
          "text": [
            "proability that he waits for less than 12 min for a bus= 2.7755575615628914e-17\n"
          ]
        }
      ]
    },
    {
      "cell_type": "code",
      "source": [
        "from scipy.stats import expon"
      ],
      "metadata": {
        "id": "f3RRdW9yn_IX"
      },
      "execution_count": null,
      "outputs": []
    },
    {
      "cell_type": "code",
      "source": [
        "#Q5(i)\n",
        "P1 = 1 - expon.cdf(20000, 0, 40000)\n",
        "print(\"Proability that one of these tries will last atleast 20,000km = \" + str(P1))\n"
      ],
      "metadata": {
        "colab": {
          "base_uri": "https://localhost:8080/"
        },
        "id": "G7Qx8N2Kn5Lh",
        "outputId": "7280d4d5-cdd9-4596-c77d-cad96dd5ae83"
      },
      "execution_count": null,
      "outputs": [
        {
          "output_type": "stream",
          "name": "stdout",
          "text": [
            "Proability that one of these tries will last atleast 20,000km = 0.6065306597126334\n"
          ]
        }
      ]
    },
    {
      "cell_type": "code",
      "source": [
        "#(ii)\n",
        "P2 = expon.cdf(30000, 0, 40000)\n",
        "print(\"proability tht one one these tires will last atmost 30,000km= \" + str(P2))"
      ],
      "metadata": {
        "colab": {
          "base_uri": "https://localhost:8080/"
        },
        "id": "PtuYPuEeoaL4",
        "outputId": "96e1e77e-98c2-4dfc-bf6b-8c618791f032"
      },
      "execution_count": null,
      "outputs": [
        {
          "output_type": "stream",
          "name": "stdout",
          "text": [
            "proability tht one one these tires will last atmost 30,000km= 0.5276334472589853\n"
          ]
        }
      ]
    },
    {
      "cell_type": "code",
      "source": [
        "from scipy.stats import gamma"
      ],
      "metadata": {
        "id": "mtChRePOovQ_"
      },
      "execution_count": null,
      "outputs": []
    },
    {
      "cell_type": "code",
      "source": [
        "#Q6\n",
        "P = 1 - gamma.cdf(12, 3, 0, 2)\n",
        "print(\"proability that the power supply will be inadeqaute on a given day= \" + str(P))\n",
        "print(gamma.sf(12, 3, 0, 2))"
      ],
      "metadata": {
        "colab": {
          "base_uri": "https://localhost:8080/"
        },
        "id": "tJ_zfoaIqUa_",
        "outputId": "43be365e-42ea-4257-a53e-f28e789130ec"
      },
      "execution_count": null,
      "outputs": [
        {
          "output_type": "stream",
          "name": "stdout",
          "text": [
            "proability that the power supply will be inadeqaute on a given day= 0.061968804416658974\n",
            "0.06196880441665898\n"
          ]
        }
      ]
    },
    {
      "cell_type": "code",
      "source": [
        "from scipy.stats import beta\n",
        "import numpy as np"
      ],
      "metadata": {
        "id": "V-arcw-squSq"
      },
      "execution_count": null,
      "outputs": []
    },
    {
      "cell_type": "code",
      "source": [
        "#Q7\n",
        "P = beta.cdf(0.3, 2, 5) - beta.cdf(0.2, 2, 5)\n",
        "print(\"proability of defective balls in the basket from 20% to 30% = \" + str(P))"
      ],
      "metadata": {
        "colab": {
          "base_uri": "https://localhost:8080/"
        },
        "id": "zoh6Qnt3rPoz",
        "outputId": "698a5561-7caf-4289-959d-820e0d9e11a8"
      },
      "execution_count": null,
      "outputs": [
        {
          "output_type": "stream",
          "name": "stdout",
          "text": [
            "proability of defective balls in the basket from 20% to 30% = 0.23518500000000003\n"
          ]
        }
      ]
    },
    {
      "cell_type": "code",
      "source": [
        "from scipy.stats import norm"
      ],
      "metadata": {
        "id": "9wo_aqU_sVlF"
      },
      "execution_count": null,
      "outputs": []
    },
    {
      "cell_type": "code",
      "source": [
        "#Q8\n",
        "P_success = norm.sf(75, 65, 5)\n",
        "print(\"proability that seected students would have scored abover 75= \" + str(P_success))"
      ],
      "metadata": {
        "colab": {
          "base_uri": "https://localhost:8080/"
        },
        "id": "405RjDyptJlK",
        "outputId": "daded57e-a8c1-4d26-e44a-cf23ef55c372"
      },
      "execution_count": null,
      "outputs": [
        {
          "output_type": "stream",
          "name": "stdout",
          "text": [
            "proability that seected students would have scored abover 75= 0.022750131948179195\n"
          ]
        }
      ]
    },
    {
      "cell_type": "code",
      "source": [
        "from scipy.stats import binom"
      ],
      "metadata": {
        "id": "ugL-yzRLt6eu"
      },
      "execution_count": null,
      "outputs": []
    },
    {
      "cell_type": "code",
      "source": [
        "#Q8\n",
        "P2 = 1 - (binom.pmf(k=0, n=3, p= P_success))\n",
        "print(\"Proability that out of the 3 students at least one of them should have scored above 75= \" + str(P2))"
      ],
      "metadata": {
        "colab": {
          "base_uri": "https://localhost:8080/"
        },
        "id": "5o2mb7uwtcGB",
        "outputId": "ef54e2b9-821a-44a5-ba79-ac9304e27f1b"
      },
      "execution_count": null,
      "outputs": [
        {
          "output_type": "stream",
          "name": "stdout",
          "text": [
            "Proability that out of the 3 students at least one of them should have scored above 75= 0.0667094650853094\n"
          ]
        }
      ]
    }
  ]
}