{
  "nbformat": 4,
  "nbformat_minor": 0,
  "metadata": {
    "colab": {
      "provenance": [],
      "authorship_tag": "ABX9TyOg1AnCZiE6WWO11ofsyLox",
      "include_colab_link": true
    },
    "kernelspec": {
      "name": "python3",
      "display_name": "Python 3"
    },
    "language_info": {
      "name": "python"
    }
  },
  "cells": [
    {
      "cell_type": "markdown",
      "metadata": {
        "id": "view-in-github",
        "colab_type": "text"
      },
      "source": [
        "<a href=\"https://colab.research.google.com/github/drashtikshah/Stats/blob/main/SDS_60009210079.ipynb\" target=\"_parent\"><img src=\"https://colab.research.google.com/assets/colab-badge.svg\" alt=\"Open In Colab\"/></a>"
      ]
    },
    {
      "cell_type": "code",
      "source": [
        "#1\n",
        "import numpy as np\n",
        "from scipy import stats\n",
        "import statistics as st\n",
        "import matplotlib.pyplot as plt"
      ],
      "metadata": {
        "id": "PxH6n-YHNCK5"
      },
      "execution_count": null,
      "outputs": []
    },
    {
      "cell_type": "code",
      "source": [
        "#1\n",
        "import numpy as np\n",
        "a=[20, 2, 7, 1, 34]\n",
        "np.mean(a)"
      ],
      "metadata": {
        "colab": {
          "base_uri": "https://localhost:8080/"
        },
        "id": "edvm5CT7NoUO",
        "outputId": "89167116-c9a8-4acc-84b2-de14f86e3b65"
      },
      "execution_count": null,
      "outputs": [
        {
          "output_type": "execute_result",
          "data": {
            "text/plain": [
              "12.8"
            ]
          },
          "metadata": {},
          "execution_count": 2
        }
      ]
    },
    {
      "cell_type": "code",
      "source": [
        "import numpy as np\n",
        "b=[[14, 17, 12, 33, 44],[15, 6, 27, 8, 19][23, 2, 54, 1, 4]]\n",
        "print(np.mean(b))\n",
        "print(np.mean(b,axis=0))\n",
        "print(np.mean(b,axis=1))"
      ],
      "metadata": {
        "id": "MlUnkqOOVqL_"
      },
      "execution_count": null,
      "outputs": []
    },
    {
      "cell_type": "code",
      "source": [
        "#3\n",
        "c=[[3, 7, 5],[8, 4, 3],[2, 4, 9]]\n",
        "#mini and max\n",
        "print(np.amin(c,axis=0))\n",
        "print(np.amax(c,axis=1))\n",
        "#range\n",
        "print(np.ptp(c))\n",
        "print(np.ptp(c,axis=0))\n",
        "print(np.ptp(c,axis=1))"
      ],
      "metadata": {
        "colab": {
          "base_uri": "https://localhost:8080/"
        },
        "id": "iPbp7vdZO4-Z",
        "outputId": "7520975c-9699-4e08-b673-8b0ebdaaba8f"
      },
      "execution_count": null,
      "outputs": [
        {
          "output_type": "stream",
          "name": "stdout",
          "text": [
            "[2 4 3]\n",
            "[7 8 9]\n",
            "7\n",
            "[6 3 6]\n",
            "[4 5 7]\n"
          ]
        }
      ]
    },
    {
      "cell_type": "code",
      "source": [
        "d=[[1, 2, 3, 4],[4, 3, 2, 1]]\n",
        "np.average(d,weights=d)"
      ],
      "metadata": {
        "colab": {
          "base_uri": "https://localhost:8080/"
        },
        "id": "NpposRzIPpB-",
        "outputId": "d53b0088-b9c6-4253-ae63-be3a5be899cd"
      },
      "execution_count": null,
      "outputs": [
        {
          "output_type": "execute_result",
          "data": {
            "text/plain": [
              "3.0"
            ]
          },
          "metadata": {},
          "execution_count": 10
        }
      ]
    },
    {
      "cell_type": "code",
      "source": [
        "e=[99, 86, 87, 88, 111, 86, 103, 87, 94, 78, 77, 85, 86]\n",
        "print(np.mean(e))\n",
        "print(np.median(e))\n",
        "from scipy import stats\n",
        "print(stats.mode(e))"
      ],
      "metadata": {
        "colab": {
          "base_uri": "https://localhost:8080/"
        },
        "id": "GOZIVk-oP987",
        "outputId": "eab6fe95-72b6-4580-ff51-6f1422228e01"
      },
      "execution_count": null,
      "outputs": [
        {
          "output_type": "stream",
          "name": "stdout",
          "text": [
            "89.76923076923077\n",
            "87.0\n",
            "ModeResult(mode=array([86]), count=array([3]))\n"
          ]
        }
      ]
    },
    {
      "cell_type": "code",
      "source": [
        "f=[[1, 3, 27],[3, 4, 6],[7, 6, 3],[3, 6, 8]]\n",
        "from scipy.stats import gmean\n",
        "print(gmean(f))\n",
        "print(gmean(f,axis=0))\n",
        "print(gmean(f,axis=1))"
      ],
      "metadata": {
        "colab": {
          "base_uri": "https://localhost:8080/"
        },
        "id": "BWxzTr39QtrC",
        "outputId": "eb4ae7b8-9a9d-4468-b3eb-110eb7332a37"
      },
      "execution_count": null,
      "outputs": [
        {
          "output_type": "stream",
          "name": "stdout",
          "text": [
            "[2.81731325 4.55901411 7.89644408]\n",
            "[2.81731325 4.55901411 7.89644408]\n",
            "[4.32674871 4.16016765 5.01329793 5.24148279]\n"
          ]
        }
      ]
    },
    {
      "cell_type": "code",
      "source": [
        "g=[1, 3, 5, 7, 9]\n",
        "from scipy.stats import hmean\n",
        "hmean(g)"
      ],
      "metadata": {
        "colab": {
          "base_uri": "https://localhost:8080/"
        },
        "id": "pz-rPZX1ROVM",
        "outputId": "86396bd3-1a12-4e3a-bb1d-0aa5cec618bd"
      },
      "execution_count": null,
      "outputs": [
        {
          "output_type": "execute_result",
          "data": {
            "text/plain": [
              "2.797513321492007"
            ]
          },
          "metadata": {},
          "execution_count": 18
        }
      ]
    },
    {
      "cell_type": "code",
      "source": [
        "h=[[30, 65, 70],[80, 95, 10],[50, 90, 60]]\n",
        "import numpy as np\n",
        "print(np.median(h))\n",
        "print(np.median(h,axis=0))\n",
        "print(np.median(h,axis=1))"
      ],
      "metadata": {
        "colab": {
          "base_uri": "https://localhost:8080/"
        },
        "id": "unY8zjztRafa",
        "outputId": "f0825aed-b60f-42c1-fc9d-cd47b6e066b0"
      },
      "execution_count": null,
      "outputs": [
        {
          "output_type": "stream",
          "name": "stdout",
          "text": [
            "65.0\n",
            "[50. 90. 60.]\n",
            "[65. 80. 60.]\n"
          ]
        }
      ]
    },
    {
      "cell_type": "code",
      "source": [
        "a=[30, 40, 72, 83, 25, 10, 50, 90, 60, 15, 5, 9, 34, 23, 67, 80, 67, 45]\n",
        "import numpy as np\n",
        "print(np.percentile(a,30))\n",
        "print(np.percentile(a,50))\n",
        "print(np.percentile(a,75))\n",
        "print(np.percentile(a,90))"
      ],
      "metadata": {
        "colab": {
          "base_uri": "https://localhost:8080/"
        },
        "id": "23gQXDuJR41x",
        "outputId": "322c3dc9-eb17-458f-812f-a6b4bcdda0a3"
      },
      "execution_count": null,
      "outputs": [
        {
          "output_type": "stream",
          "name": "stdout",
          "text": [
            "25.5\n",
            "42.5\n",
            "67.0\n",
            "80.9\n"
          ]
        }
      ]
    },
    {
      "cell_type": "code",
      "source": [
        "import matplotlib.pyplot as plt\n",
        "a=[91, 79, 66, 98, 127, 139, 154, 147, 192, 88, 97, 92, 87, 142, 127, 184, 145, 162, 95, 89, 86, 98, 145, 129, 149, 158, 241 ]\n",
        "plt.hist(a,21,range=(66,241))"
      ],
      "metadata": {
        "colab": {
          "base_uri": "https://localhost:8080/",
          "height": 421
        },
        "id": "ZB1BGa5qSg73",
        "outputId": "00e8d454-e639-4f8a-a9c6-153bbb8ac386"
      },
      "execution_count": null,
      "outputs": [
        {
          "output_type": "execute_result",
          "data": {
            "text/plain": [
              "(array([1., 1., 4., 6., 0., 0., 0., 3., 1., 5., 1., 2., 0., 0., 1., 1., 0.,\n",
              "        0., 0., 0., 1.]),\n",
              " array([ 66.        ,  74.33333333,  82.66666667,  91.        ,\n",
              "         99.33333333, 107.66666667, 116.        , 124.33333333,\n",
              "        132.66666667, 141.        , 149.33333333, 157.66666667,\n",
              "        166.        , 174.33333333, 182.66666667, 191.        ,\n",
              "        199.33333333, 207.66666667, 216.        , 224.33333333,\n",
              "        232.66666667, 241.        ]),\n",
              " <a list of 21 Patch objects>)"
            ]
          },
          "metadata": {},
          "execution_count": 23
        },
        {
          "output_type": "display_data",
          "data": {
            "text/plain": [
              "<Figure size 432x288 with 1 Axes>"
            ],
            "image/png": "[encoded data removed]"
          },
          "metadata": {
            "needs_background": "light"
          }
        }
      ]
    },
    {
      "cell_type": "code",
      "source": [
        "import numpy as np\n",
        "def grouped_mean(x):\n",
        "  n = len(x)\n",
        "  Sum = 0\n",
        "  F = 0\n",
        "  for i in range(n):\n",
        "    Sum = Sum + ((x[i][0] + x[i][1])/2)*x[i][2]\n",
        "    F = F +x[i][2]\n",
        "    mean = Sum/F\n",
        "    print(\"Mean : \",mean)\n",
        "    return mean\n",
        "\n",
        "\n",
        "  def grouped_median(A):\n",
        "    n = len(A)\n",
        "    for i in range(n):\n",
        "      if i==0:\n",
        "        A[i][3] = A[i-1][3]\n",
        "      m = A[i][3]/2\n",
        "      for i in range(n-1):\n",
        "        if A[i][3] < m <= A[i+1][3]:\n",
        "          #print(\"Median of the interval is : \"+ str(A[i+1][0] + str(A[i+1][1])))\n",
        "           L = A[i+1][0]\n",
        "           IW = A[i+1][1] - A[i+1][0]\n",
        "           CF = A[i-1][3]\n",
        "           Fi = A[i-1][2]\n",
        "           Median = L + (m-CF)*IW/Fi\n",
        "           print(\"Median : \", Median)\n",
        "           break\n",
        "        return Median\n",
        "x = np.array([[0, 0.99, 2, 0], [1, 1.99, 4, 0], [2, 2.99, 6, 0], [3, 3.99, 7, 0], [4, 4.99, 5, 0], [5, 5.99, 3, 0], [6, 6.99, 1, 0]])\n",
        "print(grouped_mean(x))\n",
        "print(grouped_median(x))"
      ],
      "metadata": {
        "colab": {
          "base_uri": "https://localhost:8080/",
          "height": 235
        },
        "id": "jFH5kaNchXZp",
        "outputId": "30338e76-67d9-45a9-c781-cef4a16c2c74"
      },
      "execution_count": null,
      "outputs": [
        {
          "output_type": "stream",
          "name": "stdout",
          "text": [
            "Mean :  0.495\n",
            "0.495\n"
          ]
        },
        {
          "output_type": "error",
          "ename": "NameError",
          "evalue": "ignored",
          "traceback": [
            "\u001b[0;31m---------------------------------------------------------------------------\u001b[0m",
            "\u001b[0;31mNameError\u001b[0m                                 Traceback (most recent call last)",
            "\u001b[0;32m<ipython-input-6-730df3907da7>\u001b[0m in \u001b[0;36m<module>\u001b[0;34m\u001b[0m\n\u001b[1;32m     31\u001b[0m \u001b[0mx\u001b[0m \u001b[0;34m=\u001b[0m \u001b[0mnp\u001b[0m\u001b[0;34m.\u001b[0m\u001b[0marray\u001b[0m\u001b[0;34m(\u001b[0m\u001b[0;34m[\u001b[0m\u001b[0;34m[\u001b[0m\u001b[0;36m0\u001b[0m\u001b[0;34m,\u001b[0m \u001b[0;36m0.99\u001b[0m\u001b[0;34m,\u001b[0m \u001b[0;36m2\u001b[0m\u001b[0;34m,\u001b[0m \u001b[0;36m0\u001b[0m\u001b[0;34m]\u001b[0m\u001b[0;34m,\u001b[0m \u001b[0;34m[\u001b[0m\u001b[0;36m1\u001b[0m\u001b[0;34m,\u001b[0m \u001b[0;36m1.99\u001b[0m\u001b[0;34m,\u001b[0m \u001b[0;36m4\u001b[0m\u001b[0;34m,\u001b[0m \u001b[0;36m0\u001b[0m\u001b[0;34m]\u001b[0m\u001b[0;34m,\u001b[0m \u001b[0;34m[\u001b[0m\u001b[0;36m2\u001b[0m\u001b[0;34m,\u001b[0m \u001b[0;36m2.99\u001b[0m\u001b[0;34m,\u001b[0m \u001b[0;36m6\u001b[0m\u001b[0;34m,\u001b[0m \u001b[0;36m0\u001b[0m\u001b[0;34m]\u001b[0m\u001b[0;34m,\u001b[0m \u001b[0;34m[\u001b[0m\u001b[0;36m3\u001b[0m\u001b[0;34m,\u001b[0m \u001b[0;36m3.99\u001b[0m\u001b[0;34m,\u001b[0m \u001b[0;36m7\u001b[0m\u001b[0;34m,\u001b[0m \u001b[0;36m0\u001b[0m\u001b[0;34m]\u001b[0m\u001b[0;34m,\u001b[0m \u001b[0;34m[\u001b[0m\u001b[0;36m4\u001b[0m\u001b[0;34m,\u001b[0m \u001b[0;36m4.99\u001b[0m\u001b[0;34m,\u001b[0m \u001b[0;36m5\u001b[0m\u001b[0;34m,\u001b[0m \u001b[0;36m0\u001b[0m\u001b[0;34m]\u001b[0m\u001b[0;34m,\u001b[0m \u001b[0;34m[\u001b[0m\u001b[0;36m5\u001b[0m\u001b[0;34m,\u001b[0m \u001b[0;36m5.99\u001b[0m\u001b[0;34m,\u001b[0m \u001b[0;36m3\u001b[0m\u001b[0;34m,\u001b[0m \u001b[0;36m0\u001b[0m\u001b[0;34m]\u001b[0m\u001b[0;34m,\u001b[0m \u001b[0;34m[\u001b[0m\u001b[0;36m6\u001b[0m\u001b[0;34m,\u001b[0m \u001b[0;36m6.99\u001b[0m\u001b[0;34m,\u001b[0m \u001b[0;36m1\u001b[0m\u001b[0;34m,\u001b[0m \u001b[0;36m0\u001b[0m\u001b[0;34m]\u001b[0m\u001b[0;34m]\u001b[0m\u001b[0;34m)\u001b[0m\u001b[0;34m\u001b[0m\u001b[0;34m\u001b[0m\u001b[0m\n\u001b[1;32m     32\u001b[0m \u001b[0mprint\u001b[0m\u001b[0;34m(\u001b[0m\u001b[0mgrouped_mean\u001b[0m\u001b[0;34m(\u001b[0m\u001b[0mx\u001b[0m\u001b[0;34m)\u001b[0m\u001b[0;34m)\u001b[0m\u001b[0;34m\u001b[0m\u001b[0;34m\u001b[0m\u001b[0m\n\u001b[0;32m---> 33\u001b[0;31m \u001b[0mprint\u001b[0m\u001b[0;34m(\u001b[0m\u001b[0mgrouped_median\u001b[0m\u001b[0;34m(\u001b[0m\u001b[0mx\u001b[0m\u001b[0;34m)\u001b[0m\u001b[0;34m)\u001b[0m\u001b[0;34m\u001b[0m\u001b[0;34m\u001b[0m\u001b[0m\n\u001b[0m",
            "\u001b[0;31mNameError\u001b[0m: name 'grouped_median' is not defined"
          ]
        }
      ]
    },
    {
      "cell_type": "code",
      "source": [
        "import statistics as st\n",
        "sd= np.array([51, 38, 79, 46, 57])\n",
        "n = len(sd)\n",
        "print(\"Standard deviation of the given sample : \",str(st.stdev(sd)))\n",
        "print(\"Standard deviation of the given sample : \",str((sum((sd-np.mean(sd))**2)/(n-1))**0.5))\n",
        "print(\"Standard deviation of the given population is : \", str(np.std(sd)))\n",
        "print(\"Standard deviation of the given sample is : \",str((sum((sd-np.mean(sd))**2)/n)**0.5))"
      ],
      "metadata": {
        "colab": {
          "base_uri": "https://localhost:8080/"
        },
        "id": "4DbLfE_8m4y5",
        "outputId": "43956f06-07c3-46c3-969b-4202a70e0643"
      },
      "execution_count": null,
      "outputs": [
        {
          "output_type": "stream",
          "name": "stdout",
          "text": [
            "Standard deviation of the given sample :  15.491933384829668\n",
            "Standard deviation of the given sample :  15.514509338035799\n",
            "Standard deviation of the given population is :  13.876599006961325\n",
            "Standard deviation of the given sample is :  13.876599006961325\n"
          ]
        }
      ]
    },
    {
      "cell_type": "code",
      "source": [
        "print(\"drashti shah\")"
      ],
      "metadata": {
        "colab": {
          "base_uri": "https://localhost:8080/"
        },
        "id": "8NdR0noRunLm",
        "outputId": "b22001ad-127c-4a90-bc5c-b055dd266be3"
      },
      "execution_count": null,
      "outputs": [
        {
          "output_type": "stream",
          "name": "stdout",
          "text": [
            "drashti shah\n"
          ]
        }
      ]
    },
    {
      "cell_type": "code",
      "source": [
        "#Q14\n",
        "D1=np.array([6.3, 7.2, 7.3, 8.1, 7.8, 6.8, 7.5, 7.8, 7.2, 7.5, 8.1, 8.2])\n",
        "D2=np.array([8.0, 7.4, 7.6, 7.7, 7.6, 7.4, 7.5, 8.4, 7.4, 7.6, 6.2, 7.4])\n",
        "D1_mean = np.mean(D1)\n",
        "D2_mean = np.mean(D2)\n",
        "D1_sd = np.std(D1)\n",
        "D2_sd = np.std(D2)\n",
        "if D1_mean >=7.5 and D1_sd < 0.5:\n",
        "  print(\"First dozen of tomatoes is selected by the chef, because it satisifes the chef prescribed condition.\")\n",
        "else:\n",
        "  print(\"First dozen of tomatoes is not selected by chef, because it does not satify the chef prescribed condition.\")\n",
        "if D2_mean >= 7.5 and D2_sd < 0.5:\n",
        "  print(\"Second dozen of tomatoes is selected by the chef, because it satisifes the chef prescribed condition.\")\n",
        "else:\n",
        "  print(\"Second dozen of tomatoes is not selected by the chef, because it does not satify the chef prescribed condition.\")"
      ],
      "metadata": {
        "id": "D02WxQDcuuh9",
        "colab": {
          "base_uri": "https://localhost:8080/"
        },
        "outputId": "de287713-8c95-410d-9081-612463a53aae"
      },
      "execution_count": null,
      "outputs": [
        {
          "output_type": "stream",
          "name": "stdout",
          "text": [
            "First dozen of tomatoes is not selected by chef, because it does not satify the chef prescribed condition.\n",
            "Second dozen of tomatoes is selected by the chef, because it satisifes the chef prescribed condition.\n"
          ]
        }
      ]
    },
    {
      "cell_type": "code",
      "source": [
        "#Q15\n",
        "import math\n",
        "G1_mean = 32.11\n",
        "G1_var = 68.09\n",
        "G2_mean = 19.75\n",
        "G2_var = 71.14\n",
        "G1_cv = 100*math.sqrt(G1_var)/G1_mean\n",
        "G2_cv = 100*math.sqrt(G2_var)/G1_mean\n",
        "if G1_cv== G2_cv:\n",
        "  print(\"Both Training program produce result with the same variability.\")\n",
        "elif G1_cv<G2_cv:\n",
        "  print(\"Training program produce result with the G2_cv>G1_cv variability.\")"
      ],
      "metadata": {
        "id": "4jVWGez3Wwjr",
        "colab": {
          "base_uri": "https://localhost:8080/"
        },
        "outputId": "08b116a0-1ea6-4102-f6e0-757f3d82cc3b"
      },
      "execution_count": null,
      "outputs": [
        {
          "output_type": "stream",
          "name": "stdout",
          "text": [
            "Training program produce result with the G2_cv>G1_cv variability.\n"
          ]
        }
      ]
    },
    {
      "cell_type": "code",
      "source": [
        "#Q16\n",
        "import numpy as np\n",
        "import matplotlib.pyplot as plt\n",
        "C_enrolled = np.array([75, 69, 56, 46, 47, 79, 92, 97, 89, 88, 36, 96, 105, 32, 116, 101, 79, 93, 91, 112])\n",
        "fig, ax = plt.subplots(figsize =(20, 7))\n",
        "ax.hist(C_enrolled, bins = 500, density = True)\n",
        "#Show plot\n",
        "print(\"Histogram of the number of candidate enrolled each day in last 20 days for the course - Statititcs for data science students is shown below:\")\n",
        "plt.show()"
      ],
      "metadata": {
        "id": "OkDd-xA9YXRX",
        "colab": {
          "base_uri": "https://localhost:8080/",
          "height": 445
        },
        "outputId": "ecc1ff8e-fad8-4906-8829-a359e70e0c0d"
      },
      "execution_count": null,
      "outputs": [
        {
          "output_type": "stream",
          "name": "stdout",
          "text": [
            "Histogram of the number of candidate enrolled each day in last 20 days for the course - Statititcs for data science students is shown below:\n"
          ]
        },
        {
          "output_type": "display_data",
          "data": {
            "text/plain": [
              "<Figure size 1440x504 with 1 Axes>"
            ],
            "image/png": "[encoded data removed]"
          },
          "metadata": {
            "needs_background": "light"
          }
        }
      ]
    },
    {
      "cell_type": "code",
      "source": [
        "#Q9\n",
        "#store in the from[lower limit,upperlimit,frequency,cf(initally 0)]\n",
        "data2 = np.array([[0, 0.99, 2, 0],[1, 1.99, 4, 0],[2, 2.99, 6, 0],[3, 3.99, 7, 0],[4, 4.99, 5, 0],[5, 5.99, 3, 0],[6, 6.99, 1, 0]])\n",
        "def grouped_mean(a):\n",
        "  sum=0\n",
        "  freq=0\n",
        "  n=len(a)\n",
        "  for i in range(n):\n",
        "    sum = sum + ((a[i][0]+a[i][1])/2)*a[i][2]          #((l+u)/2)*f\n",
        "    freq = freq + a[i][2]\n",
        "  Mean = sum/freq\n",
        "  return Mean\n",
        "def grouped_median(a):\n",
        "  n= len(a)\n",
        "  for i in range(n):\n",
        "    if i==0:\n",
        "      a[i][3] = a[i][2]\n",
        "    else:\n",
        "      a[i][3] = a[i][2]+a[i-1][3]\n",
        "    pos = a[i][3] = a[i][2]+a[i-1][3]\n",
        "  for i in range(n-1):\n",
        "   if a[i][3]<pos<=a[i+1][3]:\n",
        "     print(\"Median class is: \",a[i+1][0],\"-\",a[i+1][1])\n",
        "     lower = a[i+1][0]\n",
        "     iw = a[i+1][1] - a[i+1][0]\n",
        "     cf = a[i][3]\n",
        "     f = a[i+1][2]\n",
        "     median = lower + (pos-cf)*iw/f\n",
        "     return median\n",
        "     break\n",
        "print(data2)\n",
        "print(\"Grouped mean\",grouped_mean(data2))\n",
        "print(\"Grouped median\",grouped_median(data2))"
      ],
      "metadata": {
        "colab": {
          "base_uri": "https://localhost:8080/"
        },
        "id": "mRHIuQjqFLTK",
        "outputId": "2a3eb967-eebb-4785-d989-6f69c658720b"
      },
      "execution_count": null,
      "outputs": [
        {
          "output_type": "stream",
          "name": "stdout",
          "text": [
            "[[0.   0.99 2.   0.  ]\n",
            " [1.   1.99 4.   0.  ]\n",
            " [2.   2.99 6.   0.  ]\n",
            " [3.   3.99 7.   0.  ]\n",
            " [4.   4.99 5.   0.  ]\n",
            " [5.   5.99 3.   0.  ]\n",
            " [6.   6.99 1.   0.  ]]\n",
            "Grouped mean 3.2807142857142857\n",
            "Median class is:  6.0 - 6.99\n",
            "Grouped median 6.99\n"
          ]
        }
      ]
    },
    {
      "cell_type": "code",
      "source": [
        "#Q13\n",
        "import numpy as np\n",
        "a=[3600, 4200, 4700, 4900, 5300, 5700, 6700, 7300, 7700, 8100, 8300, 8400, 8700, 8700, 8900, 9300,\n",
        "   9500, 9500, 9700, 10000, 10300, 10500, 10700, 10800, 11000, 11300, 11300, 11800, 12100,\n",
        "   12700, 12900, 13100, 13500, 13800, 14600, 14900, 16300, 17200, 18500, 20300]\n",
        "print(\"Range=\",np.ptp(a))\n",
        "x=np.percentile(a,25)\n",
        "y=np.percentile(a,75)\n",
        "print(\"Inter quratile range=\",y-x)"
      ],
      "metadata": {
        "colab": {
          "base_uri": "https://localhost:8080/"
        },
        "id": "ic_CJk27Jst4",
        "outputId": "24d0c44f-8c25-47a7-e63c-adf3438b61b6"
      },
      "execution_count": null,
      "outputs": [
        {
          "output_type": "stream",
          "name": "stdout",
          "text": [
            "Range= 16700\n",
            "Inter quratile range= 4500.0\n"
          ]
        }
      ]
    },
    {
      "cell_type": "code",
      "source": [
        "#Q16\n",
        "import numpy as np\n",
        "import matplotlib.pyplot as plt\n",
        "l=np.array([75, 90, 105, 120, 135, 150, 165, 180, 195, 210])\n",
        "u=np.array([89, 104, 119, 134, 149, 164, 179, 194, 209, 224])\n",
        "y=[10, 11, 23, 26, 31,23, 9, 9, 6, 2]\n",
        "for a in range(82, 217):\n",
        " x=(np.add(l,u))/2\n",
        "plt.subplots(1,1)\n",
        "plt.show()\n"
      ],
      "metadata": {
        "colab": {
          "base_uri": "https://localhost:8080/",
          "height": 269
        },
        "id": "eVtMtzcnLh6j",
        "outputId": "7cef008d-1334-429d-cb98-91728623e3a9"
      },
      "execution_count": null,
      "outputs": [
        {
          "output_type": "display_data",
          "data": {
            "text/plain": [
              "<Figure size 432x288 with 1 Axes>"
            ],
            "image/png": "[encoded data removed]"
          },
          "metadata": {
            "needs_background": "light"
          }
        }
      ]
    },
    {
      "cell_type": "code",
      "source": [
        "#Q17(1)\n",
        "import numpy as np\n",
        "a=[99, 56, 78, 55.5, 32, 90, 80, 81, 56, 59, 45, 77, 84.5, 84, 70, 72, 68, 32, 79, 90]\n",
        "print(\"Minimum=\",np.min(a))\n",
        "print(\"Maximum=\",np.max(a))\n",
        "print(\"Median=\",np.mean(a))\n",
        "print(\"First percentile=\",np.percentile(a,25))\n",
        "print(\"Third percentile=\",np.percentile(a,75))"
      ],
      "metadata": {
        "colab": {
          "base_uri": "https://localhost:8080/"
        },
        "id": "-NB9OkueOR4v",
        "outputId": "03261804-9de0-4c38-8a9e-4759eabd5b0e"
      },
      "execution_count": null,
      "outputs": [
        {
          "output_type": "stream",
          "name": "stdout",
          "text": [
            "Minimum= 32.0\n",
            "Maximum= 99.0\n",
            "Median= 69.4\n",
            "First percentile= 56.0\n",
            "Third percentile= 81.75\n"
          ]
        }
      ]
    },
    {
      "cell_type": "code",
      "source": [
        "#Q17(2)\n",
        "import numpy as np\n",
        "a=[98, 78, 68, 83, 81, 89, 88, 76, 65, 45, 98, 90, 80, 84.5, 85, 79, 78, 98, 90, 79, 81, 25.5]\n",
        "print(\"Minimum=\",np.min(a))\n",
        "print(\"Maximum=\",np.max(a))\n",
        "print(\"Median=\",np.mean(a))\n",
        "print(\"First percentile=\",np.percentile(a,25))\n",
        "print(\"Third percentile=\",np.percentile(a,75))"
      ],
      "metadata": {
        "colab": {
          "base_uri": "https://localhost:8080/"
        },
        "id": "B6L5QqqpNeP_",
        "outputId": "75ab5aa2-45a5-43fe-e751-7f167d799c00"
      },
      "execution_count": null,
      "outputs": [
        {
          "output_type": "stream",
          "name": "stdout",
          "text": [
            "Minimum= 25.5\n",
            "Maximum= 98.0\n",
            "Median= 79.04545454545455\n",
            "First percentile= 78.0\n",
            "Third percentile= 88.75\n"
          ]
        }
      ]
    },
    {
      "cell_type": "code",
      "source": [
        "#Q17(4)\n",
        "import matplotlib.pyplot as plt\n",
        "import numpy as np\n",
        "data1=np.array([99, 56, 78, 55.5, 32, 90, 80, 81, 56, 59, 45, 77, 84.5, 84, 70, 72, 68, 32, 79, 90])\n",
        "data2=np.array([98, 78, 68, 83, 81, 89, 88, 76, 65, 45, 98, 90, 80, 84.5, 85, 79, 78, 98, 90, 79, 81, 25.5])\n",
        "data=[data1,data2]\n",
        "fig= plt.figure(figsize =(10, 7))\n",
        "plt.boxplot(data)\n",
        "plt.show()"
      ],
      "metadata": {
        "colab": {
          "base_uri": "https://localhost:8080/",
          "height": 483
        },
        "id": "c2U_FHn3OZpo",
        "outputId": "28d8ff79-f6d8-4234-cef4-e273415ac691"
      },
      "execution_count": null,
      "outputs": [
        {
          "output_type": "stream",
          "name": "stderr",
          "text": [
            "/usr/local/lib/python3.7/dist-packages/matplotlib/cbook/__init__.py:1376: VisibleDeprecationWarning: Creating an ndarray from ragged nested sequences (which is a list-or-tuple of lists-or-tuples-or ndarrays with different lengths or shapes) is deprecated. If you meant to do this, you must specify 'dtype=object' when creating the ndarray.\n",
            "  X = np.atleast_1d(X.T if isinstance(X, np.ndarray) else np.asarray(X))\n"
          ]
        },
        {
          "output_type": "display_data",
          "data": {
            "text/plain": [
              "<Figure size 720x504 with 1 Axes>"
            ],
            "image/png": "[encoded data removed]"
          },
          "metadata": {
            "needs_background": "light"
          }
        }
      ]
    }
  ]
}