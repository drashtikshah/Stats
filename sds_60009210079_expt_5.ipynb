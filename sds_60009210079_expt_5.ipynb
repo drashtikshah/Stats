{
  "nbformat": 4,
  "nbformat_minor": 0,
  "metadata": {
    "colab": {
      "provenance": [],
      "authorship_tag": "ABX9TyMXstQ5zW0IfCNvdfGM6130",
      "include_colab_link": true
    },
    "kernelspec": {
      "name": "python3",
      "display_name": "Python 3"
    },
    "language_info": {
      "name": "python"
    }
  },
  "cells": [
    {
      "cell_type": "markdown",
      "metadata": {
        "id": "view-in-github",
        "colab_type": "text"
      },
      "source": [
        "<a href=\"https://colab.research.google.com/github/drashtikshah/Stats/blob/main/sds_60009210079_expt_5.ipynb\" target=\"_parent\"><img src=\"https://colab.research.google.com/assets/colab-badge.svg\" alt=\"Open In Colab\"/></a>"
      ]
    },
    {
      "cell_type": "code",
      "execution_count": null,
      "metadata": {
        "id": "_erHPGN2aqZU"
      },
      "outputs": [],
      "source": [
        "import numpy as np\n",
        "import scipy\n",
        "import statistics as st\n",
        "import math\n",
        "import matplotlib.pyplot as plt"
      ]
    },
    {
      "cell_type": "markdown",
      "source": [],
      "metadata": {
        "id": "EgvIejuzysDQ"
      }
    },
    {
      "cell_type": "markdown",
      "source": [
        "Q1"
      ],
      "metadata": {
        "id": "EUll5UG0bvwu"
      }
    },
    {
      "cell_type": "code",
      "source": [
        "from scipy.stats import norm"
      ],
      "metadata": {
        "id": "868GLNpwbosI"
      },
      "execution_count": null,
      "outputs": []
    },
    {
      "cell_type": "code",
      "source": [
        "P1 = norm.cdf(1.5)\n",
        "print(\"P(Z<1.5) = \" + str(P1))"
      ],
      "metadata": {
        "colab": {
          "base_uri": "https://localhost:8080/"
        },
        "id": "GzLKKYvJbvEC",
        "outputId": "7531b523-2f5f-4cc9-f12b-762054d9eac8"
      },
      "execution_count": null,
      "outputs": [
        {
          "output_type": "stream",
          "name": "stdout",
          "text": [
            "P(Z<1.5) = 0.9331927987311419\n"
          ]
        }
      ]
    },
    {
      "cell_type": "code",
      "source": [
        "P2 = norm.sf(0.5)\n",
        "print(\"P(Z>0.5) = \" + str(P2))\n",
        "print(1 - norm.cdf(0.5))"
      ],
      "metadata": {
        "colab": {
          "base_uri": "https://localhost:8080/"
        },
        "id": "8rkYBYW9dKFu",
        "outputId": "2bf0397c-0599-4096-e53a-df7e9acab2d0"
      },
      "execution_count": null,
      "outputs": [
        {
          "output_type": "stream",
          "name": "stdout",
          "text": [
            "P(Z>0.5) = 0.3085375387259869\n",
            "0.3085375387259869\n"
          ]
        }
      ]
    },
    {
      "cell_type": "code",
      "source": [
        "P3 = norm.cdf(1.5) - norm.cdf(-1.5)\n",
        "print(\"P Z < 1.5 = \" + str(P3))"
      ],
      "metadata": {
        "colab": {
          "base_uri": "https://localhost:8080/"
        },
        "id": "AGOCkTxJdoCA",
        "outputId": "1201fdba-1561-45bb-dc1b-e3ec2de9a7b7"
      },
      "execution_count": null,
      "outputs": [
        {
          "output_type": "stream",
          "name": "stdout",
          "text": [
            "P Z < 1.5 = 0.8663855974622838\n"
          ]
        }
      ]
    },
    {
      "cell_type": "code",
      "source": [
        "P4 = norm.cdf(-0.5) + norm.sf(0.5)\n",
        "print(\"P (Z > 0.5) = \"+ str(P4))"
      ],
      "metadata": {
        "colab": {
          "base_uri": "https://localhost:8080/"
        },
        "id": "RNG3cTn7eHaX",
        "outputId": "c588676b-f3a8-4782-d62b-3d50d779281c"
      },
      "execution_count": null,
      "outputs": [
        {
          "output_type": "stream",
          "name": "stdout",
          "text": [
            "P Z > 0.5) = 0.6170750774519738\n"
          ]
        }
      ]
    },
    {
      "cell_type": "code",
      "source": [
        "P5 = norm.cdf(1) - norm.cdf(-2.2)\n",
        "print(\"P(-2.2<Z<1) = \" + str(P5))"
      ],
      "metadata": {
        "colab": {
          "base_uri": "https://localhost:8080/"
        },
        "id": "y9JSjJuaeYxE",
        "outputId": "bfb97146-ff69-4021-f80b-fa48605844d6"
      },
      "execution_count": null,
      "outputs": [
        {
          "output_type": "stream",
          "name": "stdout",
          "text": [
            "P(-2.2<Z<1) = 0.8274412985550443\n"
          ]
        }
      ]
    },
    {
      "cell_type": "markdown",
      "source": [
        "Q2"
      ],
      "metadata": {
        "id": "viYThCAJes_B"
      }
    },
    {
      "cell_type": "code",
      "source": [
        "print(\"value of z_0 satisfying P(Z<z_0) = 0.90 is \" + str(norm.ppf(0.90)))\n",
        "print(\"value of z_0 satisfying P(Z<z_0) = 0.95 is \" + str(norm.ppf(0.95)))\n",
        "print(\"value of z_0 satisfying P(Z<z_0) = 0.99 is \" + str(norm.ppf(0.99)))\n",
        "print(\"value of z_0 satisfying P( |Z| <z_0) = 0.90 is \" + str(norm.ppf(0.95)))\n",
        "print(\"value of z_0 satisfying P( |Z| <z_0) = 0.95 is \" + str(norm.ppf(0.975)))\n",
        "print(\"value of z_0 satisfying P( |Z|<z_0) = 0.90 is \" + str(norm.ppf(0.995)))"
      ],
      "metadata": {
        "colab": {
          "base_uri": "https://localhost:8080/"
        },
        "id": "e9Ml2wF0esJh",
        "outputId": "5594e6fd-e2f6-464b-a42d-4d72896dcef1"
      },
      "execution_count": null,
      "outputs": [
        {
          "output_type": "stream",
          "name": "stdout",
          "text": [
            "value of z_0 satisfying P(Z<z_0) = 0.90 is 1.2815515655446004\n",
            "value of z_0 satisfying P(Z<z_0) = 0.95 is 1.6448536269514722\n",
            "value of z_0 satisfying P(Z<z_0) = 0.99 is 2.3263478740408408\n",
            "value of z_0 satisfying P( |Z| <z_0) = 0.90 is 1.6448536269514722\n",
            "value of z_0 satisfying P( |Z| <z_0) = 0.95 is 1.959963984540054\n",
            "value of z_0 satisfying P( |Z|<z_0) = 0.90 is 2.5758293035489004\n"
          ]
        }
      ]
    },
    {
      "cell_type": "code",
      "source": [
        "import matplotlib.pyplot as plt\n",
        "fig, ax = plt.subplots(1, 1)\n",
        "mean, var, skew, kurt = norm.stats(moments= 'mvsk')\n",
        "print(mean, var, skew, kurt)\n",
        "x = np.linspace(norm.ppf(0.01),norm.ppf(0.99), 100)\n",
        "ax.plot(x, norm.pdf(x), 'r', lw=3, alpha=0.6, label='norm pdf')"
      ],
      "metadata": {
        "colab": {
          "base_uri": "https://localhost:8080/",
          "height": 300
        },
        "id": "nsioKbStf9UR",
        "outputId": "d6e37f8f-ffca-421e-e9df-ee787ccccf10"
      },
      "execution_count": null,
      "outputs": [
        {
          "output_type": "stream",
          "name": "stdout",
          "text": [
            "0.0 1.0 0.0 0.0\n"
          ]
        },
        {
          "output_type": "execute_result",
          "data": {
            "text/plain": [
              "[<matplotlib.lines.Line2D at 0x7f3df5ebe190>]"
            ]
          },
          "metadata": {},
          "execution_count": 20
        },
        {
          "output_type": "display_data",
          "data": {
            "text/plain": [
              "<Figure size 432x288 with 1 Axes>"
            ],
            "image/png": "[encoded data removed]"
          },
          "metadata": {
            "needs_background": "light"
          }
        }
      ]
    },
    {
      "cell_type": "code",
      "source": [
        "norm.stats? #how to know other functions"
      ],
      "metadata": {
        "id": "nmN9EPpKhzNy"
      },
      "execution_count": null,
      "outputs": []
    },
    {
      "cell_type": "markdown",
      "source": [
        "Q3"
      ],
      "metadata": {
        "id": "r8cIsIQmiYIV"
      }
    },
    {
      "cell_type": "code",
      "source": [
        "from scipy.stats import t"
      ],
      "metadata": {
        "id": "BgPcTcXIiXc_"
      },
      "execution_count": null,
      "outputs": []
    },
    {
      "cell_type": "code",
      "source": [
        "P1 = t.cdf(1.5, 20)\n",
        "print(\"With df = 20, P(t < 1.5)= \" + str(P1))"
      ],
      "metadata": {
        "colab": {
          "base_uri": "https://localhost:8080/"
        },
        "id": "0db7gkDLjLwt",
        "outputId": "638e6908-d737-431f-dfca-c66f58ad3ca5"
      },
      "execution_count": null,
      "outputs": [
        {
          "output_type": "stream",
          "name": "stdout",
          "text": [
            "With df = 20, P(t < 1.5)= 0.9253821144153737\n"
          ]
        }
      ]
    },
    {
      "cell_type": "code",
      "source": [
        "P2 = t.sf(0.5, 15)\n",
        "print(\"with df= 15, P(t>0.5) = \" + str(P2))"
      ],
      "metadata": {
        "colab": {
          "base_uri": "https://localhost:8080/"
        },
        "id": "6m6SMav0jNEC",
        "outputId": "4f0aa442-fd31-4452-c334-4a1db51097aa"
      },
      "execution_count": null,
      "outputs": [
        {
          "output_type": "stream",
          "name": "stdout",
          "text": [
            "with df= 15, P(t>0.5) = 0.3121650567600378\n"
          ]
        }
      ]
    },
    {
      "cell_type": "code",
      "source": [
        "P3 = t.cdf(1.5, 25) - t.sf(0.5, 35)\n",
        "print(\"With df = 25, P( |t|  < 1.5)= \" + str(P3))"
      ],
      "metadata": {
        "colab": {
          "base_uri": "https://localhost:8080/"
        },
        "id": "bVdf2nRYjju3",
        "outputId": "8872e739-6a80-4193-d48d-52c5c984a537"
      },
      "execution_count": null,
      "outputs": [
        {
          "output_type": "stream",
          "name": "stdout",
          "text": [
            "With df = 25, P( |t|  < 1.5)= 0.6168286158132424\n"
          ]
        }
      ]
    },
    {
      "cell_type": "code",
      "source": [
        "P4 = t.cdf(-0.5, 35) + t.sf(0.5, 35)\n",
        "print(\"With df = 35, P(t > 0.5)= \" + str(P4))"
      ],
      "metadata": {
        "colab": {
          "base_uri": "https://localhost:8080/"
        },
        "id": "T5I4NlTnjwc_",
        "outputId": "22e00ec4-27ec-442d-f489-34782085a13b"
      },
      "execution_count": null,
      "outputs": [
        {
          "output_type": "stream",
          "name": "stdout",
          "text": [
            "With df = 35, P(t > 0.5)= 0.6202043032354958\n"
          ]
        }
      ]
    },
    {
      "cell_type": "code",
      "source": [
        "P5 = t.cdf(1, 42) - t.cdf(-2.2, 42)\n",
        "print(\"With df = 42, P(-2.2< t < 1)= \" + str(P5))"
      ],
      "metadata": {
        "colab": {
          "base_uri": "https://localhost:8080/"
        },
        "id": "t7Ejz7i6j_D1",
        "outputId": "61abbd6d-8c7c-4778-fc7d-f17957341396"
      },
      "execution_count": null,
      "outputs": [
        {
          "output_type": "stream",
          "name": "stdout",
          "text": [
            "With df = 42, P(-2.2< t < 1)= 0.8218007171327162\n"
          ]
        }
      ]
    },
    {
      "cell_type": "code",
      "source": [
        "print(t.cdf(1.5, 1000))\n",
        "print(norm.cdf(1.5))"
      ],
      "metadata": {
        "colab": {
          "base_uri": "https://localhost:8080/"
        },
        "id": "q1vVRWy6kU2l",
        "outputId": "0bfda4a9-1d99-4f23-fb88-a9d762aa0037"
      },
      "execution_count": null,
      "outputs": [
        {
          "output_type": "stream",
          "name": "stdout",
          "text": [
            "0.933034980588957\n",
            "0.9331927987311419\n"
          ]
        }
      ]
    },
    {
      "cell_type": "markdown",
      "source": [
        "Q4"
      ],
      "metadata": {
        "id": "WkckaQXVks1T"
      }
    },
    {
      "cell_type": "code",
      "source": [
        "print(\" with df = 20 value of t_0 satisfying P(t<t_0) = 0.90 is \" + str(t.ppf(0.90, 20)))\n",
        "print(\" with df = 15 value of t_0 satisfying P(t<t_0) = 0.95 is \" + str(t.ppf(0.95, 15)))\n",
        "print(\" with df = 25 value of t_0 satisfying P(t<t_0) = 0.99 is \" + str(t.ppf(0.99, 25)))\n",
        "print(\" with df = 30 value of t_0 satisfying P(t<t_0) = 0.90 is \" + str(t.ppf(0.95, 30)))\n",
        "print(\" with df = 42 value of t_0 satisfying P( |t| <t_0) = 0.95 is \" + str(t.ppf(0.975, 42)))\n",
        "print(\" with df = 10 value of t_0 satisfying P( |t| <t_0) = 0.99 is \" + str(t.ppf(0.995, 10)))"
      ],
      "metadata": {
        "colab": {
          "base_uri": "https://localhost:8080/"
        },
        "id": "cLJw8MHWklwz",
        "outputId": "bb5b9fc1-3695-4293-c866-261d7528e90c"
      },
      "execution_count": null,
      "outputs": [
        {
          "output_type": "stream",
          "name": "stdout",
          "text": [
            " with df = 20 value of t_0 satisfying P(t<t_0) = 0.90 is 1.3253407069850462\n",
            " with df = 15 value of t_0 satisfying P(t<t_0) = 0.95 is 1.7530503556925547\n",
            " with df = 25 value of t_0 satisfying P(t<t_0) = 0.99 is 2.4851071754106413\n",
            " with df = 30 value of t_0 satisfying P(t<t_0) = 0.90 is 1.6972608943617378\n",
            " with df = 42 value of t_0 satisfying P( |t| <t_0) = 0.95 is 2.018081697095881\n",
            " with df = 10 value of t_0 satisfying P( |t| <t_0) = 0.99 is 3.169272667175838\n"
          ]
        }
      ]
    },
    {
      "cell_type": "code",
      "source": [
        "fig, ax = plt.subplots(1, 1)\n",
        "df = 10\n",
        "mean, var, skew, kurt = t.stats(df, moments= 'mvsk')\n",
        "print(mean, var, skew, kurt)\n",
        "x = np.linspace(t.ppf(0.01, df),t.ppf(0.99,df), 100)\n",
        "ax.plot(x, t.pdf(x,df), 'r', lw=3, alpha=0.6, label='t pdf')"
      ],
      "metadata": {
        "colab": {
          "base_uri": "https://localhost:8080/",
          "height": 300
        },
        "id": "9AnxbkSWl4os",
        "outputId": "00238c40-a22e-4c2f-c43d-1a693e651a25"
      },
      "execution_count": null,
      "outputs": [
        {
          "output_type": "stream",
          "name": "stdout",
          "text": [
            "0.0 1.25 0.0 1.0\n"
          ]
        },
        {
          "output_type": "execute_result",
          "data": {
            "text/plain": [
              "[<matplotlib.lines.Line2D at 0x7f3df5b10690>]"
            ]
          },
          "metadata": {},
          "execution_count": 38
        },
        {
          "output_type": "display_data",
          "data": {
            "text/plain": [
              "<Figure size 432x288 with 1 Axes>"
            ],
            "image/png": "[encoded data removed]"
          },
          "metadata": {
            "needs_background": "light"
          }
        }
      ]
    },
    {
      "cell_type": "markdown",
      "source": [
        "Q5"
      ],
      "metadata": {
        "id": "keWHGHW_mbOq"
      }
    },
    {
      "cell_type": "code",
      "source": [
        "from scipy.stats import f"
      ],
      "metadata": {
        "id": "TMYBlVkEmJzy"
      },
      "execution_count": null,
      "outputs": []
    },
    {
      "cell_type": "code",
      "source": [
        "P1 = f.cdf(1.5, 5, 14)\n",
        "print(\"With df1 = 5, df2 = 14, P(F<1.5)= \" + str(P1))"
      ],
      "metadata": {
        "colab": {
          "base_uri": "https://localhost:8080/"
        },
        "id": "A6xeLxpTniSj",
        "outputId": "a6b6d648-b251-492a-e359-968f24dd6c80"
      },
      "execution_count": null,
      "outputs": [
        {
          "output_type": "stream",
          "name": "stdout",
          "text": [
            "With df1 = 5, df2 = 14, P(F<1.5)= 0.7480582329156877\n"
          ]
        }
      ]
    },
    {
      "cell_type": "code",
      "source": [
        "P2 = f.sf(2.5, 15, 14)\n",
        "print(\"With df1 = 15, df2 = 14, P(F>2.5)= \" + str(P2))"
      ],
      "metadata": {
        "colab": {
          "base_uri": "https://localhost:8080/"
        },
        "id": "aiDYd_j1n8ES",
        "outputId": "9f441544-5db7-45d9-949f-b1eec2a17d56"
      },
      "execution_count": null,
      "outputs": [
        {
          "output_type": "stream",
          "name": "stdout",
          "text": [
            "With df1 = 15, df2 = 14, P(F>2.5)= 0.047343688940604506\n"
          ]
        }
      ]
    },
    {
      "cell_type": "code",
      "source": [
        "P3 = f.cdf(4.1, 13, 17) - f.cdf(0.5, 13, 17)\n",
        "print(\"With df1 = 13, df2 = 14, P(0.5<F<41)= \" + str(P3))"
      ],
      "metadata": {
        "colab": {
          "base_uri": "https://localhost:8080/"
        },
        "id": "zBXEjgMUoIh8",
        "outputId": "92bfd815-cf96-4f23-a351-f60c30387af5"
      },
      "execution_count": null,
      "outputs": [
        {
          "output_type": "stream",
          "name": "stdout",
          "text": [
            "With df1 = 13, df2 = 14, P(0.5<F<41)= 0.8911203850553827\n"
          ]
        }
      ]
    },
    {
      "cell_type": "markdown",
      "source": [
        "Q6"
      ],
      "metadata": {
        "id": "JN9-yhFbpfGJ"
      }
    },
    {
      "cell_type": "code",
      "source": [
        "print(\"With df1 = 5, df2= 14 value of F_0 satisfying equaton P(F<F_0) = 0.90 is \" + str(f.ppf(0.90,5,14)))\n",
        "print(\"With df1 = 15, df2= 13 value of F_0 satisfying equaton P(F<F_0) = 0.95 is \" + str(f.ppf(0.95,15,13)))\n",
        "print(\"With df1 = 25, df2= 29 value of F_0 satisfying equaton P(F<F_0) = 0.99 is \" + str(f.ppf(0.99,25,28)))"
      ],
      "metadata": {
        "colab": {
          "base_uri": "https://localhost:8080/"
        },
        "id": "QVr6X2E0obYD",
        "outputId": "f696e5fd-dac0-49be-890d-a1e88abb7050"
      },
      "execution_count": null,
      "outputs": [
        {
          "output_type": "stream",
          "name": "stdout",
          "text": [
            "With df1 = 5, df2= 14 value of F_0 satisfying equaton P(F<F_0) = 0.90 is 2.3069430514007236\n",
            "With df1 = 15, df2= 13 value of F_0 satisfying equaton P(F<F_0) = 0.95 is 2.533109983130745\n",
            "With df1 = 25, df2= 29 value of F_0 satisfying equaton P(F<F_0) = 0.99 is 2.5060172667359417\n"
          ]
        }
      ]
    },
    {
      "cell_type": "code",
      "source": [
        "print(\"with df1=8, df2=29 value of F_0 satsifing eqaution P(F< F_0) = 0.99 is \" +str(f.ppf(0.99,8,29)))"
      ],
      "metadata": {
        "colab": {
          "base_uri": "https://localhost:8080/"
        },
        "id": "5CwRswD8pf59",
        "outputId": "52d15d5a-18ae-4da8-8f86-eca310abba5c"
      },
      "execution_count": null,
      "outputs": [
        {
          "output_type": "stream",
          "name": "stdout",
          "text": [
            "with df1=8, df2=29 value of F_0 satsifing eqaution P(F< F_0) = 0.99 is 3.198218844688683\n"
          ]
        }
      ]
    },
    {
      "cell_type": "code",
      "source": [
        "fig, ax = plt.subplots(1, 1)\n",
        "dfn, dfd = 10, 15\n",
        "mean, var, skew, kurt = f.stats(dfn, dfd, moments= 'mvsk')\n",
        "print(mean, var, skew, kurt)\n",
        "x = np.linspace(f.ppf(0.01, dfn, dfd),f.ppf(0.99, dfn, dfd), 100)\n",
        "ax.plot(x, f.pdf(x, dfn, dfd), 'r', lw=3, alpha=0.6, label='F pdf')"
      ],
      "metadata": {
        "colab": {
          "base_uri": "https://localhost:8080/",
          "height": 300
        },
        "id": "VuLs5UQgp2yz",
        "outputId": "8076a5e6-eb04-4088-daac-c40a3fe001dd"
      },
      "execution_count": null,
      "outputs": [
        {
          "output_type": "stream",
          "name": "stdout",
          "text": [
            "1.1538461538461537 0.556750941366326 2.268030280365984 11.634782608695652\n"
          ]
        },
        {
          "output_type": "execute_result",
          "data": {
            "text/plain": [
              "[<matplotlib.lines.Line2D at 0x7f3df5e6b410>]"
            ]
          },
          "metadata": {},
          "execution_count": 48
        },
        {
          "output_type": "display_data",
          "data": {
            "text/plain": [
              "<Figure size 432x288 with 1 Axes>"
            ],
            "image/png": "[encoded data removed]"
          },
          "metadata": {
            "needs_background": "light"
          }
        }
      ]
    },
    {
      "cell_type": "markdown",
      "source": [
        "Q7"
      ],
      "metadata": {
        "id": "1ZPDxGFqqosH"
      }
    },
    {
      "cell_type": "code",
      "source": [
        "from scipy.stats import chi2"
      ],
      "metadata": {
        "id": "OK3-fLKiqiVp"
      },
      "execution_count": null,
      "outputs": []
    },
    {
      "cell_type": "code",
      "source": [
        "P1 = chi2.cdf(1.5,10)\n",
        "print(\"With df = 10,P(X<1.5) = \" +str(P1))"
      ],
      "metadata": {
        "colab": {
          "base_uri": "https://localhost:8080/"
        },
        "id": "3nPZdrkLqtzc",
        "outputId": "126f038c-db24-4f0f-a4db-3ebce9570704"
      },
      "execution_count": null,
      "outputs": [
        {
          "output_type": "stream",
          "name": "stdout",
          "text": [
            "With df = 10,P(X<1.5) = 0.0010646777727857928\n"
          ]
        }
      ]
    },
    {
      "cell_type": "code",
      "source": [
        "P2 = chi2.sf(2.5,5)\n",
        "print(\"With df = 5,P(X<2.5) = \" +str(P2))"
      ],
      "metadata": {
        "colab": {
          "base_uri": "https://localhost:8080/"
        },
        "id": "XQi2MNhDrB7h",
        "outputId": "a6242d4b-2b24-4d5d-bd4a-a15f54cfea38"
      },
      "execution_count": null,
      "outputs": [
        {
          "output_type": "stream",
          "name": "stdout",
          "text": [
            "With df = 5,P(X<2.5) = 0.7764950711233227\n"
          ]
        }
      ]
    },
    {
      "cell_type": "code",
      "source": [
        "P3 = chi2.cdf(4.1, 2) - chi2.cdf(0.5, 2)\n",
        "print(\"With df =2,P(0.5<X<4.1) = \" + str(P3))"
      ],
      "metadata": {
        "colab": {
          "base_uri": "https://localhost:8080/"
        },
        "id": "RK6kwPJrrLvj",
        "outputId": "cda4688f-1d06-42c8-fdc5-dcd2d012c5e5"
      },
      "execution_count": null,
      "outputs": [
        {
          "output_type": "stream",
          "name": "stdout",
          "text": [
            "With df =2,P(0.5<X<4.1) = 0.6500658794836006\n"
          ]
        }
      ]
    },
    {
      "cell_type": "markdown",
      "source": [
        "Q8"
      ],
      "metadata": {
        "id": "G7BSpLNvr1mC"
      }
    },
    {
      "cell_type": "code",
      "source": [
        "print(\" with df = 1 value of x_0 satisfying P(X<x_0) = 0.90 is \" + str(chi2.ppf(0.90, 1)))\n",
        "print(\" with df = 3 value of x_0 satisfying P(X<x_0) = 0.95 is \" + str(chi2.ppf(0.95, 3)))\n",
        "print(\" with df = 2 value of x_0 satisfying P(X<x_0) = 0.99 is \" + str(chi2.ppf(0.99, 2)))\n",
        "print(\" with df = 1 value of x_0 satisfying P(X<x_0) = 0.05 is \" + str(chi2.ppf(0.05, 1)))\n",
        "print(\" with df = 3 value of x_0 satisfying P( |X| <x_0) = 0.025 is \" + str(chi2.ppf(0.025, 3)))\n",
        "print(\" with df = 2 value of x_0 satisfying P( |X| <x_0) = 0.005 is \" + str(chi2.ppf(0.005, 2)))"
      ],
      "metadata": {
        "colab": {
          "base_uri": "https://localhost:8080/"
        },
        "id": "59t1nf4Vr2-J",
        "outputId": "66cb9a72-6462-4194-d887-2b3830919b68"
      },
      "execution_count": null,
      "outputs": [
        {
          "output_type": "stream",
          "name": "stdout",
          "text": [
            " with df = 1 value of x_0 satisfying P(X<x_0) = 0.90 is 2.705543454095404\n",
            " with df = 3 value of x_0 satisfying P(X<x_0) = 0.95 is 7.814727903251179\n",
            " with df = 2 value of x_0 satisfying P(X<x_0) = 0.99 is 9.21034037197618\n",
            " with df = 1 value of x_0 satisfying P(X<x_0) = 0.05 is 0.003932140000019522\n",
            " with df = 3 value of x_0 satisfying P( |X| <x_0) = 0.025 is 0.21579528262389785\n",
            " with df = 2 value of x_0 satisfying P( |X| <x_0) = 0.005 is 0.010025083647088564\n"
          ]
        }
      ]
    },
    {
      "cell_type": "code",
      "source": [
        "fig, ax = plt.subplots(1, 1)\n",
        "df = 3\n",
        "mean, var, skew, kurt = chi2.stats(df, moments= 'mvsk')\n",
        "print(mean, var, skew, kurt)\n",
        "x = np.linspace(chi2.ppf(0.01, df),chi2.ppf(0.99,df), 100)\n",
        "ax.plot(x, chi2.pdf(x,df), 'r', lw=3, alpha=0.6, label='chi2 pdf')"
      ],
      "metadata": {
        "colab": {
          "base_uri": "https://localhost:8080/",
          "height": 301
        },
        "id": "blLP6VpIs_TP",
        "outputId": "8c930e59-6802-4843-9e5a-4645cee36632"
      },
      "execution_count": null,
      "outputs": [
        {
          "output_type": "stream",
          "name": "stdout",
          "text": [
            "3.0 6.0 1.632993161855452 4.0\n"
          ]
        },
        {
          "output_type": "execute_result",
          "data": {
            "text/plain": [
              "[<matplotlib.lines.Line2D at 0x7f3df5a42ad0>]"
            ]
          },
          "metadata": {},
          "execution_count": 59
        },
        {
          "output_type": "display_data",
          "data": {
            "text/plain": [
              "<Figure size 432x288 with 1 Axes>"
            ],
            "image/png": "[encoded data removed]"
          },
          "metadata": {
            "needs_background": "light"
          }
        }
      ]
    },
    {
      "cell_type": "markdown",
      "source": [
        "Q9"
      ],
      "metadata": {
        "id": "YF5xmRFItXYX"
      }
    },
    {
      "cell_type": "code",
      "source": [
        "s_m = 101.82\n",
        "pop_Sd = 1.2\n",
        "n = 6\n",
        "alpha = 0.05\n",
        "Z_0 = norm.ppf(1-alpha/2)\n",
        "L = s_m - Z_0*pop_Sd/math.sqrt(n)\n",
        "U = s_m + Z_0*pop_Sd/math.sqrt(n)\n",
        "conf_interval = (L, U)\n",
        "print(\"95% confidence interval for given population mean is \" + str(conf_interval))"
      ],
      "metadata": {
        "colab": {
          "base_uri": "https://localhost:8080/"
        },
        "id": "vCf4nt1xtaLQ",
        "outputId": "0afeb325-3c10-4233-bd61-1850926ba59a"
      },
      "execution_count": null,
      "outputs": [
        {
          "output_type": "stream",
          "name": "stdout",
          "text": [
            "95% confidence interval for given population mean is (100.85981766472894, 102.78018233527105)\n"
          ]
        }
      ]
    },
    {
      "cell_type": "markdown",
      "source": [
        "Q10"
      ],
      "metadata": {
        "id": "_-jY88nnvGS1"
      }
    },
    {
      "cell_type": "code",
      "source": [
        "from scipy.stats import t\n",
        "data = [45, 55, 67, 45, 68, 79, 98, 87, 84, 82]\n",
        "s_m = st.mean(data)\n",
        "s_sd = st.stdev(data)\n",
        "n = len(data)\n",
        "df = n-1\n",
        "alpha = 0.02\n",
        "t_0 = t.ppf(1-alpha/2, df)\n",
        "L = s_m - t_0*s_sd/math.sqrt(n)\n",
        "U = s_m + t_0*s_sd/math.sqrt(n)\n",
        "conf_interval = (L, U)\n",
        "print(\"98% confidence interval for the given population mean = \" + str(conf_interval))"
      ],
      "metadata": {
        "colab": {
          "base_uri": "https://localhost:8080/"
        },
        "id": "wNlnxGTUvHHo",
        "outputId": "d9fdb33e-687e-4776-b083-1b37f90943cd"
      },
      "execution_count": null,
      "outputs": [
        {
          "output_type": "stream",
          "name": "stdout",
          "text": [
            "98% confidence interval for the given population mean = (54.78661680024991, 87.2133831997501)\n"
          ]
        }
      ]
    },
    {
      "cell_type": "markdown",
      "source": [
        "Q11"
      ],
      "metadata": {
        "id": "th3s7_jjw4KO"
      }
    },
    {
      "cell_type": "code",
      "source": [
        "X = 57\n",
        "n = 510\n",
        "p_hat = X/n\n",
        "q_hat = 1 - p_hat\n",
        "alpha = 0.1\n",
        "Z_0 = norm.ppf(1-alpha/2)\n",
        "L = p_hat - Z_0*math.sqrt(p_hat*q_hat/n)\n",
        "U = p_hat + Z_0*math.sqrt(p_hat*q_hat/n)\n",
        "conf_interval = (L, U)\n",
        "print(\"90% confidence interval for the given population mean = \" + str(conf_interval))"
      ],
      "metadata": {
        "colab": {
          "base_uri": "https://localhost:8080/"
        },
        "id": "-peKyvOTw493",
        "outputId": "b0a01350-8e11-48b6-c051-1c39e05ae5f2"
      },
      "execution_count": null,
      "outputs": [
        {
          "output_type": "stream",
          "name": "stdout",
          "text": [
            "90% confidence interval for the given population mean = (0.08881598300884237, 0.13471342875586353)\n"
          ]
        }
      ]
    }
  ]
}