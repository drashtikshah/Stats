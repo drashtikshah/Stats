{
  "nbformat": 4,
  "nbformat_minor": 0,
  "metadata": {
    "colab": {
      "provenance": [],
      "authorship_tag": "ABX9TyMjmUYkSyg8hMkE9BIj5qPX",
      "include_colab_link": true
    },
    "kernelspec": {
      "name": "python3",
      "display_name": "Python 3"
    },
    "language_info": {
      "name": "python"
    }
  },
  "cells": [
    {
      "cell_type": "markdown",
      "metadata": {
        "id": "view-in-github",
        "colab_type": "text"
      },
      "source": [
        "<a href=\"https://colab.research.google.com/github/drashtikshah/Stats/blob/main/60009210079_sds_2.ipynb\" target=\"_parent\"><img src=\"https://colab.research.google.com/assets/colab-badge.svg\" alt=\"Open In Colab\"/></a>"
      ]
    },
    {
      "cell_type": "code",
      "execution_count": null,
      "metadata": {
        "id": "AhYmoDDZX5f1"
      },
      "outputs": [],
      "source": [
        "import numpy as np\n",
        "from scipy import stats\n",
        "import statistics as st\n",
        "import matplot.pyplot as plt"
      ]
    },
    {
      "cell_type": "code",
      "source": [
        "#Question 1\n",
        "import numpy as np\n",
        "A = [20, 2, 7, 1, 34]\n",
        "print(\"Arthimetic mean of A is : \"+str(np.mean(A)))\n",
        "A1 = np.array([20, 2, 7, 1, 34])\n",
        "np.mean(A1)\n"
      ],
      "metadata": {
        "colab": {
          "base_uri": "https://localhost:8080/"
        },
        "id": "-8WnfmjXYYkp",
        "outputId": "ddfdf154-dc66-4d82-c36c-414fbd62c4a0"
      },
      "execution_count": null,
      "outputs": [
        {
          "output_type": "stream",
          "name": "stdout",
          "text": [
            "Arthimetic mean of A is : 12.8\n"
          ]
        },
        {
          "output_type": "execute_result",
          "data": {
            "text/plain": [
              "12.8"
            ]
          },
          "metadata": {},
          "execution_count": 3
        }
      ]
    },
    {
      "cell_type": "code",
      "source": [
        "#Question_2\n",
        "import numpy as np\n",
        "b = np.array([[14, 17, 12, 33, 44],[15, 6, 27, 8, 19],[23, 2, 54, 1, 4]])\n",
        "print(b)\n",
        "print(str(np.mean(b)))\n",
        "print(str(np.mean(b,axis = 0)))\n",
        "print(str(np.mean(n,axis = 1)))"
      ],
      "metadata": {
        "colab": {
          "base_uri": "https://localhost:8080/",
          "height": 287
        },
        "id": "t0z1hhR-ZDGU",
        "outputId": "dc638b80-54ea-4e7e-aecb-15029789fbec"
      },
      "execution_count": null,
      "outputs": [
        {
          "output_type": "stream",
          "name": "stdout",
          "text": [
            "[[14 17 12 33 44]\n",
            " [15  6 27  8 19]\n",
            " [23  2 54  1  4]]\n",
            "18.6\n",
            "[17.33333333  8.33333333 31.         14.         22.33333333]\n"
          ]
        },
        {
          "output_type": "error",
          "ename": "NameError",
          "evalue": "ignored",
          "traceback": [
            "\u001b[0;31m---------------------------------------------------------------------------\u001b[0m",
            "\u001b[0;31mNameError\u001b[0m                                 Traceback (most recent call last)",
            "\u001b[0;32m<ipython-input-5-aeb2bdeff78d>\u001b[0m in \u001b[0;36m<module>\u001b[0;34m\u001b[0m\n\u001b[1;32m      5\u001b[0m \u001b[0mprint\u001b[0m\u001b[0;34m(\u001b[0m\u001b[0mstr\u001b[0m\u001b[0;34m(\u001b[0m\u001b[0mnp\u001b[0m\u001b[0;34m.\u001b[0m\u001b[0mmean\u001b[0m\u001b[0;34m(\u001b[0m\u001b[0mb\u001b[0m\u001b[0;34m)\u001b[0m\u001b[0;34m)\u001b[0m\u001b[0;34m)\u001b[0m\u001b[0;34m\u001b[0m\u001b[0;34m\u001b[0m\u001b[0m\n\u001b[1;32m      6\u001b[0m \u001b[0mprint\u001b[0m\u001b[0;34m(\u001b[0m\u001b[0mstr\u001b[0m\u001b[0;34m(\u001b[0m\u001b[0mnp\u001b[0m\u001b[0;34m.\u001b[0m\u001b[0mmean\u001b[0m\u001b[0;34m(\u001b[0m\u001b[0mb\u001b[0m\u001b[0;34m,\u001b[0m\u001b[0maxis\u001b[0m \u001b[0;34m=\u001b[0m \u001b[0;36m0\u001b[0m\u001b[0;34m)\u001b[0m\u001b[0;34m)\u001b[0m\u001b[0;34m)\u001b[0m\u001b[0;34m\u001b[0m\u001b[0;34m\u001b[0m\u001b[0m\n\u001b[0;32m----> 7\u001b[0;31m \u001b[0mprint\u001b[0m\u001b[0;34m(\u001b[0m\u001b[0mstr\u001b[0m\u001b[0;34m(\u001b[0m\u001b[0mnp\u001b[0m\u001b[0;34m.\u001b[0m\u001b[0mmean\u001b[0m\u001b[0;34m(\u001b[0m\u001b[0mn\u001b[0m\u001b[0;34m,\u001b[0m\u001b[0maxis\u001b[0m \u001b[0;34m=\u001b[0m \u001b[0;36m1\u001b[0m\u001b[0;34m)\u001b[0m\u001b[0;34m)\u001b[0m\u001b[0;34m)\u001b[0m\u001b[0;34m\u001b[0m\u001b[0;34m\u001b[0m\u001b[0m\n\u001b[0m",
            "\u001b[0;31mNameError\u001b[0m: name 'n' is not defined"
          ]
        }
      ]
    },
    {
      "cell_type": "code",
      "source": [
        "#Question_3\n",
        "import numpy as np\n",
        "C = np.array([[3, 7, 5], [8, 4, 3], [2, 4, 9]])\n",
        "print(C)\n",
        "print(\"Min\",str(np.min(C)))\n",
        "print(\"Columnwise Min\",str(np.min(C, axis = 0)))\n",
        "print(\"Rowwise Min\",str(np.min(C, axis = 1)))\n",
        "print(\"Maximise of matrix\",str(np.max(C)))\n",
        "print(\"Columnwise Max\",str(np.max(C, axis = 0)))\n",
        "print(\"Rowwise Max\",str(np.max(C, axis = 1)))\n",
        "print(\"Range\",str(np.ptp(C)))\n",
        "print(\"Columnwise Range\",str(np.ptp(C, axis = 0)))\n",
        "print(\"Rowwise Range\",str(np.ptp(C, axis = 1)))"
      ],
      "metadata": {
        "id": "yUqjRyeWdTq-"
      },
      "execution_count": null,
      "outputs": []
    }
  ]
}